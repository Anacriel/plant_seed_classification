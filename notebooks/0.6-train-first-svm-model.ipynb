{
 "cells": [
  {
   "cell_type": "markdown",
   "metadata": {},
   "source": [
    "# 0.6 Train SVM model"
   ]
  },
  {
   "cell_type": "code",
   "execution_count": 2,
   "metadata": {},
   "outputs": [],
   "source": [
    "%matplotlib inline"
   ]
  },
  {
   "cell_type": "code",
   "execution_count": 3,
   "metadata": {},
   "outputs": [],
   "source": [
    "import numpy as np\n",
    "import pandas as pd\n",
    "import os\n",
    "import string"
   ]
  },
  {
   "cell_type": "code",
   "execution_count": 10,
   "metadata": {},
   "outputs": [
    {
     "name": "stdout",
     "output_type": "stream",
     "text": [
      "/Users/anacriel/plant_seed_classification/src\n"
     ]
    }
   ],
   "source": [
    "cd /Users/anacriel/plant_seed_classification/src"
   ]
  },
  {
   "cell_type": "code",
   "execution_count": 13,
   "metadata": {},
   "outputs": [],
   "source": [
    "dataset = pd.read_csv(\"data/advanced_features.csv\")"
   ]
  },
  {
   "cell_type": "code",
   "execution_count": 20,
   "metadata": {},
   "outputs": [],
   "source": [
    "dataset.drop(columns='inverse_difference_moments', inplace=True)"
   ]
  },
  {
   "cell_type": "code",
   "execution_count": 21,
   "metadata": {},
   "outputs": [
    {
     "data": {
      "text/html": [
       "<div>\n",
       "<style scoped>\n",
       "    .dataframe tbody tr th:only-of-type {\n",
       "        vertical-align: middle;\n",
       "    }\n",
       "\n",
       "    .dataframe tbody tr th {\n",
       "        vertical-align: top;\n",
       "    }\n",
       "\n",
       "    .dataframe thead th {\n",
       "        text-align: right;\n",
       "    }\n",
       "</style>\n",
       "<table border=\"1\" class=\"dataframe\">\n",
       "  <thead>\n",
       "    <tr style=\"text-align: right;\">\n",
       "      <th></th>\n",
       "      <th>area</th>\n",
       "      <th>perimeter</th>\n",
       "      <th>physiological_length</th>\n",
       "      <th>physiological_width</th>\n",
       "      <th>aspect_ratio</th>\n",
       "      <th>rectangularity</th>\n",
       "      <th>circularity</th>\n",
       "      <th>mean_r</th>\n",
       "      <th>mean_g</th>\n",
       "      <th>mean_b</th>\n",
       "      <th>stddev_r</th>\n",
       "      <th>stddev_g</th>\n",
       "      <th>stddev_b</th>\n",
       "      <th>contrast</th>\n",
       "      <th>correlation</th>\n",
       "      <th>entropy</th>\n",
       "    </tr>\n",
       "  </thead>\n",
       "  <tbody>\n",
       "    <tr>\n",
       "      <th>0</th>\n",
       "      <td>4731.5</td>\n",
       "      <td>289.036578</td>\n",
       "      <td>75</td>\n",
       "      <td>88</td>\n",
       "      <td>0.852273</td>\n",
       "      <td>1.394906</td>\n",
       "      <td>17.656587</td>\n",
       "      <td>10.813889</td>\n",
       "      <td>12.858433</td>\n",
       "      <td>6.945078</td>\n",
       "      <td>21.764148</td>\n",
       "      <td>25.679687</td>\n",
       "      <td>14.463592</td>\n",
       "      <td>387.330372</td>\n",
       "      <td>0.970058</td>\n",
       "      <td>2.842585</td>\n",
       "    </tr>\n",
       "    <tr>\n",
       "      <th>1</th>\n",
       "      <td>8901.5</td>\n",
       "      <td>426.717817</td>\n",
       "      <td>125</td>\n",
       "      <td>121</td>\n",
       "      <td>1.033058</td>\n",
       "      <td>1.699152</td>\n",
       "      <td>20.455889</td>\n",
       "      <td>13.619089</td>\n",
       "      <td>16.084000</td>\n",
       "      <td>7.870911</td>\n",
       "      <td>25.215709</td>\n",
       "      <td>29.673654</td>\n",
       "      <td>14.943225</td>\n",
       "      <td>354.426094</td>\n",
       "      <td>0.973122</td>\n",
       "      <td>2.902780</td>\n",
       "    </tr>\n",
       "    <tr>\n",
       "      <th>2</th>\n",
       "      <td>4942.5</td>\n",
       "      <td>341.462983</td>\n",
       "      <td>84</td>\n",
       "      <td>91</td>\n",
       "      <td>0.923077</td>\n",
       "      <td>1.546586</td>\n",
       "      <td>23.590687</td>\n",
       "      <td>10.316633</td>\n",
       "      <td>12.143667</td>\n",
       "      <td>6.440978</td>\n",
       "      <td>23.062125</td>\n",
       "      <td>26.891960</td>\n",
       "      <td>14.631709</td>\n",
       "      <td>300.822603</td>\n",
       "      <td>0.971422</td>\n",
       "      <td>2.338985</td>\n",
       "    </tr>\n",
       "    <tr>\n",
       "      <th>3</th>\n",
       "      <td>9126.5</td>\n",
       "      <td>387.119838</td>\n",
       "      <td>98</td>\n",
       "      <td>132</td>\n",
       "      <td>0.742424</td>\n",
       "      <td>1.417411</td>\n",
       "      <td>16.420508</td>\n",
       "      <td>12.527533</td>\n",
       "      <td>14.733822</td>\n",
       "      <td>7.119733</td>\n",
       "      <td>24.378071</td>\n",
       "      <td>28.472611</td>\n",
       "      <td>14.053283</td>\n",
       "      <td>233.826945</td>\n",
       "      <td>0.981433</td>\n",
       "      <td>2.536083</td>\n",
       "    </tr>\n",
       "    <tr>\n",
       "      <th>4</th>\n",
       "      <td>310.5</td>\n",
       "      <td>77.355339</td>\n",
       "      <td>21</td>\n",
       "      <td>27</td>\n",
       "      <td>0.777778</td>\n",
       "      <td>1.826087</td>\n",
       "      <td>19.271653</td>\n",
       "      <td>15.972422</td>\n",
       "      <td>18.640944</td>\n",
       "      <td>10.102156</td>\n",
       "      <td>25.636130</td>\n",
       "      <td>29.667084</td>\n",
       "      <td>16.636622</td>\n",
       "      <td>350.008474</td>\n",
       "      <td>0.978098</td>\n",
       "      <td>3.557184</td>\n",
       "    </tr>\n",
       "  </tbody>\n",
       "</table>\n",
       "</div>"
      ],
      "text/plain": [
       "     area   perimeter  physiological_length  physiological_width  \\\n",
       "0  4731.5  289.036578                    75                   88   \n",
       "1  8901.5  426.717817                   125                  121   \n",
       "2  4942.5  341.462983                    84                   91   \n",
       "3  9126.5  387.119838                    98                  132   \n",
       "4   310.5   77.355339                    21                   27   \n",
       "\n",
       "   aspect_ratio  rectangularity  circularity     mean_r     mean_g     mean_b  \\\n",
       "0      0.852273        1.394906    17.656587  10.813889  12.858433   6.945078   \n",
       "1      1.033058        1.699152    20.455889  13.619089  16.084000   7.870911   \n",
       "2      0.923077        1.546586    23.590687  10.316633  12.143667   6.440978   \n",
       "3      0.742424        1.417411    16.420508  12.527533  14.733822   7.119733   \n",
       "4      0.777778        1.826087    19.271653  15.972422  18.640944  10.102156   \n",
       "\n",
       "    stddev_r   stddev_g   stddev_b    contrast  correlation   entropy  \n",
       "0  21.764148  25.679687  14.463592  387.330372     0.970058  2.842585  \n",
       "1  25.215709  29.673654  14.943225  354.426094     0.973122  2.902780  \n",
       "2  23.062125  26.891960  14.631709  300.822603     0.971422  2.338985  \n",
       "3  24.378071  28.472611  14.053283  233.826945     0.981433  2.536083  \n",
       "4  25.636130  29.667084  16.636622  350.008474     0.978098  3.557184  "
      ]
     },
     "execution_count": 21,
     "metadata": {},
     "output_type": "execute_result"
    }
   ],
   "source": [
    "X = dataset.iloc[:, 2:]\n",
    "X.head(5)"
   ]
  },
  {
   "cell_type": "code",
   "execution_count": 25,
   "metadata": {},
   "outputs": [
    {
     "data": {
      "text/plain": [
       "0    9\n",
       "1    9\n",
       "2    9\n",
       "3    9\n",
       "4    9\n",
       "Name: label, dtype: int64"
      ]
     },
     "execution_count": 25,
     "metadata": {},
     "output_type": "execute_result"
    }
   ],
   "source": [
    "y = dataset.iloc[:,1]\n",
    "y.head(5)"
   ]
  },
  {
   "cell_type": "markdown",
   "metadata": {},
   "source": [
    "## Cross validational split"
   ]
  },
  {
   "cell_type": "code",
   "execution_count": 26,
   "metadata": {},
   "outputs": [],
   "source": [
    "from sklearn.model_selection import train_test_split"
   ]
  },
  {
   "cell_type": "code",
   "execution_count": 27,
   "metadata": {},
   "outputs": [],
   "source": [
    "X_train, X_test, y_train, y_test = train_test_split(X, y, test_size=0.3, random_state = 142)"
   ]
  },
  {
   "cell_type": "code",
   "execution_count": 28,
   "metadata": {},
   "outputs": [
    {
     "data": {
      "text/html": [
       "<div>\n",
       "<style scoped>\n",
       "    .dataframe tbody tr th:only-of-type {\n",
       "        vertical-align: middle;\n",
       "    }\n",
       "\n",
       "    .dataframe tbody tr th {\n",
       "        vertical-align: top;\n",
       "    }\n",
       "\n",
       "    .dataframe thead th {\n",
       "        text-align: right;\n",
       "    }\n",
       "</style>\n",
       "<table border=\"1\" class=\"dataframe\">\n",
       "  <thead>\n",
       "    <tr style=\"text-align: right;\">\n",
       "      <th></th>\n",
       "      <th>area</th>\n",
       "      <th>perimeter</th>\n",
       "      <th>physiological_length</th>\n",
       "      <th>physiological_width</th>\n",
       "      <th>aspect_ratio</th>\n",
       "      <th>rectangularity</th>\n",
       "      <th>circularity</th>\n",
       "      <th>mean_r</th>\n",
       "      <th>mean_g</th>\n",
       "      <th>mean_b</th>\n",
       "      <th>stddev_r</th>\n",
       "      <th>stddev_g</th>\n",
       "      <th>stddev_b</th>\n",
       "      <th>contrast</th>\n",
       "      <th>correlation</th>\n",
       "      <th>entropy</th>\n",
       "    </tr>\n",
       "  </thead>\n",
       "  <tbody>\n",
       "    <tr>\n",
       "      <th>3465</th>\n",
       "      <td>11.5</td>\n",
       "      <td>23.071068</td>\n",
       "      <td>11</td>\n",
       "      <td>4</td>\n",
       "      <td>2.750000</td>\n",
       "      <td>3.826087</td>\n",
       "      <td>46.284710</td>\n",
       "      <td>1.846633</td>\n",
       "      <td>2.156744</td>\n",
       "      <td>0.842411</td>\n",
       "      <td>11.257446</td>\n",
       "      <td>13.024320</td>\n",
       "      <td>5.410962</td>\n",
       "      <td>182.013162</td>\n",
       "      <td>0.899611</td>\n",
       "      <td>0.475508</td>\n",
       "    </tr>\n",
       "    <tr>\n",
       "      <th>467</th>\n",
       "      <td>241.0</td>\n",
       "      <td>91.112698</td>\n",
       "      <td>34</td>\n",
       "      <td>18</td>\n",
       "      <td>1.888889</td>\n",
       "      <td>2.539419</td>\n",
       "      <td>34.446156</td>\n",
       "      <td>15.406356</td>\n",
       "      <td>18.065978</td>\n",
       "      <td>6.113956</td>\n",
       "      <td>31.565384</td>\n",
       "      <td>36.923046</td>\n",
       "      <td>13.684025</td>\n",
       "      <td>316.324080</td>\n",
       "      <td>0.966831</td>\n",
       "      <td>2.646134</td>\n",
       "    </tr>\n",
       "    <tr>\n",
       "      <th>963</th>\n",
       "      <td>18092.0</td>\n",
       "      <td>1403.935197</td>\n",
       "      <td>164</td>\n",
       "      <td>289</td>\n",
       "      <td>0.567474</td>\n",
       "      <td>2.619721</td>\n",
       "      <td>108.945061</td>\n",
       "      <td>12.371022</td>\n",
       "      <td>15.279767</td>\n",
       "      <td>4.537900</td>\n",
       "      <td>24.633182</td>\n",
       "      <td>30.212064</td>\n",
       "      <td>10.390288</td>\n",
       "      <td>370.835412</td>\n",
       "      <td>0.969445</td>\n",
       "      <td>2.764188</td>\n",
       "    </tr>\n",
       "    <tr>\n",
       "      <th>1471</th>\n",
       "      <td>247.0</td>\n",
       "      <td>136.166520</td>\n",
       "      <td>48</td>\n",
       "      <td>42</td>\n",
       "      <td>1.142857</td>\n",
       "      <td>8.161943</td>\n",
       "      <td>75.066078</td>\n",
       "      <td>4.635300</td>\n",
       "      <td>4.776444</td>\n",
       "      <td>2.306133</td>\n",
       "      <td>19.079526</td>\n",
       "      <td>19.467070</td>\n",
       "      <td>9.915341</td>\n",
       "      <td>464.086588</td>\n",
       "      <td>0.868308</td>\n",
       "      <td>1.012637</td>\n",
       "    </tr>\n",
       "    <tr>\n",
       "      <th>4116</th>\n",
       "      <td>1840.0</td>\n",
       "      <td>250.994947</td>\n",
       "      <td>109</td>\n",
       "      <td>29</td>\n",
       "      <td>3.758621</td>\n",
       "      <td>1.717935</td>\n",
       "      <td>34.238295</td>\n",
       "      <td>22.046044</td>\n",
       "      <td>26.012422</td>\n",
       "      <td>8.390289</td>\n",
       "      <td>35.252506</td>\n",
       "      <td>40.956261</td>\n",
       "      <td>15.419196</td>\n",
       "      <td>477.671442</td>\n",
       "      <td>0.963758</td>\n",
       "      <td>3.942430</td>\n",
       "    </tr>\n",
       "  </tbody>\n",
       "</table>\n",
       "</div>"
      ],
      "text/plain": [
       "         area    perimeter  physiological_length  physiological_width  \\\n",
       "3465     11.5    23.071068                    11                    4   \n",
       "467     241.0    91.112698                    34                   18   \n",
       "963   18092.0  1403.935197                   164                  289   \n",
       "1471    247.0   136.166520                    48                   42   \n",
       "4116   1840.0   250.994947                   109                   29   \n",
       "\n",
       "      aspect_ratio  rectangularity  circularity     mean_r     mean_g  \\\n",
       "3465      2.750000        3.826087    46.284710   1.846633   2.156744   \n",
       "467       1.888889        2.539419    34.446156  15.406356  18.065978   \n",
       "963       0.567474        2.619721   108.945061  12.371022  15.279767   \n",
       "1471      1.142857        8.161943    75.066078   4.635300   4.776444   \n",
       "4116      3.758621        1.717935    34.238295  22.046044  26.012422   \n",
       "\n",
       "        mean_b   stddev_r   stddev_g   stddev_b    contrast  correlation  \\\n",
       "3465  0.842411  11.257446  13.024320   5.410962  182.013162     0.899611   \n",
       "467   6.113956  31.565384  36.923046  13.684025  316.324080     0.966831   \n",
       "963   4.537900  24.633182  30.212064  10.390288  370.835412     0.969445   \n",
       "1471  2.306133  19.079526  19.467070   9.915341  464.086588     0.868308   \n",
       "4116  8.390289  35.252506  40.956261  15.419196  477.671442     0.963758   \n",
       "\n",
       "       entropy  \n",
       "3465  0.475508  \n",
       "467   2.646134  \n",
       "963   2.764188  \n",
       "1471  1.012637  \n",
       "4116  3.942430  "
      ]
     },
     "execution_count": 28,
     "metadata": {},
     "output_type": "execute_result"
    }
   ],
   "source": [
    "X_train.head(5)"
   ]
  },
  {
   "cell_type": "code",
   "execution_count": 29,
   "metadata": {},
   "outputs": [
    {
     "data": {
      "text/plain": [
       "3465    11\n",
       "467      0\n",
       "963      8\n",
       "1471    10\n",
       "4116     4\n",
       "Name: label, dtype: int64"
      ]
     },
     "execution_count": 29,
     "metadata": {},
     "output_type": "execute_result"
    }
   ],
   "source": [
    "y_train[0:5]"
   ]
  },
  {
   "cell_type": "code",
   "execution_count": 30,
   "metadata": {},
   "outputs": [],
   "source": [
    "from sklearn.preprocessing import StandardScaler"
   ]
  },
  {
   "cell_type": "code",
   "execution_count": 31,
   "metadata": {},
   "outputs": [
    {
     "name": "stderr",
     "output_type": "stream",
     "text": [
      "/Users/anacriel/anaconda3/lib/python3.6/site-packages/sklearn/preprocessing/data.py:625: DataConversionWarning: Data with input dtype int64, float64 were all converted to float64 by StandardScaler.\n",
      "  return self.partial_fit(X, y)\n",
      "/Users/anacriel/anaconda3/lib/python3.6/site-packages/sklearn/base.py:462: DataConversionWarning: Data with input dtype int64, float64 were all converted to float64 by StandardScaler.\n",
      "  return self.fit(X, **fit_params).transform(X)\n",
      "/Users/anacriel/anaconda3/lib/python3.6/site-packages/ipykernel_launcher.py:3: DataConversionWarning: Data with input dtype int64, float64 were all converted to float64 by StandardScaler.\n",
      "  This is separate from the ipykernel package so we can avoid doing imports until\n"
     ]
    }
   ],
   "source": [
    "sc_X = StandardScaler()\n",
    "X_train = sc_X.fit_transform(X_train)\n",
    "X_test = sc_X.transform(X_test)"
   ]
  },
  {
   "cell_type": "code",
   "execution_count": 32,
   "metadata": {},
   "outputs": [
    {
     "data": {
      "text/plain": [
       "array([[-0.84505668, -0.9627431 , -1.00512438, -1.06132362,  1.33896381,\n",
       "         0.21921927,  0.02946126, -1.52512799, -1.47915781, -1.40722134,\n",
       "        -1.9886983 , -1.84336353, -1.88829048, -0.67107257, -1.13299426,\n",
       "        -1.52906104],\n",
       "       [-0.82214663, -0.81210094, -0.78314566, -0.92561622,  0.55134859,\n",
       "        -0.11437675, -0.17960225,  0.33079501,  0.35327988,  0.17912413,\n",
       "         0.7622453 ,  0.83124596,  0.41087199,  0.23406286,  0.25918872,\n",
       "         0.24303969]])"
      ]
     },
     "execution_count": 32,
     "metadata": {},
     "output_type": "execute_result"
    }
   ],
   "source": [
    "X_train[0:2]"
   ]
  },
  {
   "cell_type": "code",
   "execution_count": 33,
   "metadata": {},
   "outputs": [
    {
     "data": {
      "text/plain": [
       "3465    11\n",
       "467      0\n",
       "Name: label, dtype: int64"
      ]
     },
     "execution_count": 33,
     "metadata": {},
     "output_type": "execute_result"
    }
   ],
   "source": [
    "y_train[0:2]"
   ]
  },
  {
   "cell_type": "markdown",
   "metadata": {},
   "source": [
    "## Applying SVM classifier model"
   ]
  },
  {
   "cell_type": "code",
   "execution_count": 34,
   "metadata": {},
   "outputs": [],
   "source": [
    "from sklearn import svm"
   ]
  },
  {
   "cell_type": "code",
   "execution_count": 35,
   "metadata": {},
   "outputs": [
    {
     "data": {
      "text/plain": [
       "SVC(C=1.0, cache_size=200, class_weight=None, coef0=0.0,\n",
       "  decision_function_shape='ovr', degree=3, gamma='auto_deprecated',\n",
       "  kernel='rbf', max_iter=-1, probability=False, random_state=None,\n",
       "  shrinking=True, tol=0.001, verbose=False)"
      ]
     },
     "execution_count": 35,
     "metadata": {},
     "output_type": "execute_result"
    }
   ],
   "source": [
    "clf = svm.SVC()\n",
    "clf.fit(X_train,y_train)"
   ]
  },
  {
   "cell_type": "code",
   "execution_count": 36,
   "metadata": {},
   "outputs": [],
   "source": [
    "y_pred = clf.predict(X_test)"
   ]
  },
  {
   "cell_type": "code",
   "execution_count": 37,
   "metadata": {},
   "outputs": [],
   "source": [
    "from sklearn import metrics"
   ]
  },
  {
   "cell_type": "code",
   "execution_count": 38,
   "metadata": {},
   "outputs": [
    {
     "data": {
      "text/plain": [
       "0.735252808988764"
      ]
     },
     "execution_count": 38,
     "metadata": {},
     "output_type": "execute_result"
    }
   ],
   "source": [
    "metrics.accuracy_score(y_test, y_pred)"
   ]
  },
  {
   "cell_type": "code",
   "execution_count": 39,
   "metadata": {},
   "outputs": [
    {
     "name": "stdout",
     "output_type": "stream",
     "text": [
      "              precision    recall  f1-score   support\n",
      "\n",
      "           0       0.68      0.69      0.68       128\n",
      "           1       0.70      0.72      0.71       138\n",
      "           2       0.64      0.74      0.68       148\n",
      "           3       0.76      0.82      0.79       115\n",
      "           4       0.71      0.90      0.79       144\n",
      "           5       0.83      0.55      0.66        62\n",
      "           6       0.69      0.54      0.61        67\n",
      "           7       0.64      0.42      0.51        60\n",
      "           8       0.93      0.91      0.92       190\n",
      "           9       0.81      0.79      0.80        89\n",
      "          10       0.70      0.87      0.78       212\n",
      "          11       0.50      0.07      0.12        71\n",
      "\n",
      "   micro avg       0.74      0.74      0.74      1424\n",
      "   macro avg       0.72      0.67      0.67      1424\n",
      "weighted avg       0.73      0.74      0.72      1424\n",
      "\n"
     ]
    }
   ],
   "source": [
    "print(metrics.classification_report(y_test, y_pred))"
   ]
  },
  {
   "cell_type": "markdown",
   "metadata": {},
   "source": [
    "## Performing parameter tuning of the model"
   ]
  },
  {
   "cell_type": "code",
   "execution_count": 40,
   "metadata": {},
   "outputs": [],
   "source": [
    "from sklearn.model_selection import GridSearchCV"
   ]
  },
  {
   "cell_type": "code",
   "execution_count": 41,
   "metadata": {},
   "outputs": [],
   "source": [
    "parameters = [{'kernel': ['rbf'],\n",
    "               'gamma': [1e-4, 1e-3, 0.01, 0.1, 0.2, 0.5],\n",
    "               'C': [1, 10, 100, 1000]},\n",
    "              {'kernel': ['linear'], 'C': [1, 10, 100, 1000]}\n",
    "             ]"
   ]
  },
  {
   "cell_type": "code",
   "execution_count": 42,
   "metadata": {},
   "outputs": [
    {
     "data": {
      "text/plain": [
       "GridSearchCV(cv=5, error_score='raise-deprecating',\n",
       "       estimator=SVC(C=1.0, cache_size=200, class_weight=None, coef0=0.0,\n",
       "  decision_function_shape='ovr', degree=3, gamma='auto_deprecated',\n",
       "  kernel='rbf', max_iter=-1, probability=False, random_state=None,\n",
       "  shrinking=True, tol=0.001, verbose=False),\n",
       "       fit_params=None, iid='warn', n_jobs=None,\n",
       "       param_grid=[{'kernel': ['rbf'], 'gamma': [0.0001, 0.001, 0.01, 0.1, 0.2, 0.5], 'C': [1, 10, 100, 1000]}, {'kernel': ['linear'], 'C': [1, 10, 100, 1000]}],\n",
       "       pre_dispatch='2*n_jobs', refit=True, return_train_score='warn',\n",
       "       scoring=None, verbose=0)"
      ]
     },
     "execution_count": 42,
     "metadata": {},
     "output_type": "execute_result"
    }
   ],
   "source": [
    "svm_clf = GridSearchCV(svm.SVC(decision_function_shape='ovr'), parameters, cv=5)\n",
    "svm_clf.fit(X_train, y_train)"
   ]
  },
  {
   "cell_type": "code",
   "execution_count": 43,
   "metadata": {},
   "outputs": [
    {
     "data": {
      "text/plain": [
       "{'C': 1000, 'gamma': 0.01, 'kernel': 'rbf'}"
      ]
     },
     "execution_count": 43,
     "metadata": {},
     "output_type": "execute_result"
    }
   ],
   "source": [
    "svm_clf.best_params_"
   ]
  },
  {
   "cell_type": "code",
   "execution_count": 44,
   "metadata": {},
   "outputs": [
    {
     "name": "stdout",
     "output_type": "stream",
     "text": [
      "0.252 (+/-0.006) for {'C': 1, 'gamma': 0.0001, 'kernel': 'rbf'}\n",
      "0.461 (+/-0.017) for {'C': 1, 'gamma': 0.001, 'kernel': 'rbf'}\n",
      "0.616 (+/-0.018) for {'C': 1, 'gamma': 0.01, 'kernel': 'rbf'}\n",
      "0.724 (+/-0.012) for {'C': 1, 'gamma': 0.1, 'kernel': 'rbf'}\n",
      "0.732 (+/-0.013) for {'C': 1, 'gamma': 0.2, 'kernel': 'rbf'}\n",
      "0.726 (+/-0.024) for {'C': 1, 'gamma': 0.5, 'kernel': 'rbf'}\n",
      "0.460 (+/-0.016) for {'C': 10, 'gamma': 0.0001, 'kernel': 'rbf'}\n",
      "0.614 (+/-0.024) for {'C': 10, 'gamma': 0.001, 'kernel': 'rbf'}\n",
      "0.731 (+/-0.020) for {'C': 10, 'gamma': 0.01, 'kernel': 'rbf'}\n",
      "0.769 (+/-0.021) for {'C': 10, 'gamma': 0.1, 'kernel': 'rbf'}\n",
      "0.765 (+/-0.019) for {'C': 10, 'gamma': 0.2, 'kernel': 'rbf'}\n",
      "0.738 (+/-0.029) for {'C': 10, 'gamma': 0.5, 'kernel': 'rbf'}\n",
      "0.609 (+/-0.021) for {'C': 100, 'gamma': 0.0001, 'kernel': 'rbf'}\n",
      "0.719 (+/-0.018) for {'C': 100, 'gamma': 0.001, 'kernel': 'rbf'}\n",
      "0.781 (+/-0.014) for {'C': 100, 'gamma': 0.01, 'kernel': 'rbf'}\n",
      "0.779 (+/-0.017) for {'C': 100, 'gamma': 0.1, 'kernel': 'rbf'}\n",
      "0.753 (+/-0.030) for {'C': 100, 'gamma': 0.2, 'kernel': 'rbf'}\n",
      "0.722 (+/-0.041) for {'C': 100, 'gamma': 0.5, 'kernel': 'rbf'}\n",
      "0.713 (+/-0.011) for {'C': 1000, 'gamma': 0.0001, 'kernel': 'rbf'}\n",
      "0.778 (+/-0.011) for {'C': 1000, 'gamma': 0.001, 'kernel': 'rbf'}\n",
      "0.795 (+/-0.026) for {'C': 1000, 'gamma': 0.01, 'kernel': 'rbf'}\n",
      "0.768 (+/-0.029) for {'C': 1000, 'gamma': 0.1, 'kernel': 'rbf'}\n",
      "0.748 (+/-0.041) for {'C': 1000, 'gamma': 0.2, 'kernel': 'rbf'}\n",
      "0.719 (+/-0.040) for {'C': 1000, 'gamma': 0.5, 'kernel': 'rbf'}\n",
      "0.739 (+/-0.017) for {'C': 1, 'kernel': 'linear'}\n",
      "0.758 (+/-0.009) for {'C': 10, 'kernel': 'linear'}\n",
      "0.772 (+/-0.006) for {'C': 100, 'kernel': 'linear'}\n",
      "0.776 (+/-0.011) for {'C': 1000, 'kernel': 'linear'}\n"
     ]
    }
   ],
   "source": [
    "means = svm_clf.cv_results_['mean_test_score']\n",
    "stds = svm_clf.cv_results_['std_test_score']\n",
    "for mean, std, params in zip(means, stds, svm_clf.cv_results_['params']):\n",
    "    print(\"%0.3f (+/-%0.03f) for %r\" % (mean, std * 2, params))"
   ]
  },
  {
   "cell_type": "code",
   "execution_count": 45,
   "metadata": {},
   "outputs": [],
   "source": [
    "y_pred_svm = svm_clf.predict(X_test)"
   ]
  },
  {
   "cell_type": "code",
   "execution_count": 46,
   "metadata": {},
   "outputs": [
    {
     "data": {
      "text/plain": [
       "0.8209269662921348"
      ]
     },
     "execution_count": 46,
     "metadata": {},
     "output_type": "execute_result"
    }
   ],
   "source": [
    "metrics.accuracy_score(y_test, y_pred_svm)"
   ]
  },
  {
   "cell_type": "code",
   "execution_count": 47,
   "metadata": {},
   "outputs": [
    {
     "name": "stdout",
     "output_type": "stream",
     "text": [
      "              precision    recall  f1-score   support\n",
      "\n",
      "           0       0.78      0.82      0.80       128\n",
      "           1       0.76      0.81      0.78       138\n",
      "           2       0.76      0.86      0.81       148\n",
      "           3       0.91      0.83      0.87       115\n",
      "           4       0.82      0.88      0.85       144\n",
      "           5       0.88      0.81      0.84        62\n",
      "           6       0.75      0.69      0.72        67\n",
      "           7       0.80      0.85      0.82        60\n",
      "           8       0.97      0.92      0.94       190\n",
      "           9       0.89      0.83      0.86        89\n",
      "          10       0.83      0.83      0.83       212\n",
      "          11       0.54      0.45      0.49        71\n",
      "\n",
      "   micro avg       0.82      0.82      0.82      1424\n",
      "   macro avg       0.81      0.80      0.80      1424\n",
      "weighted avg       0.82      0.82      0.82      1424\n",
      "\n"
     ]
    }
   ],
   "source": [
    "print(metrics.classification_report(y_test, y_pred_svm))"
   ]
  },
  {
   "cell_type": "markdown",
   "metadata": {},
   "source": [
    "## Testing random image"
   ]
  },
  {
   "cell_type": "code",
   "execution_count": null,
   "metadata": {},
   "outputs": [],
   "source": []
  }
 ],
 "metadata": {
  "kernelspec": {
   "display_name": "Python 3",
   "language": "python",
   "name": "python3"
  },
  "language_info": {
   "codemirror_mode": {
    "name": "ipython",
    "version": 3
   },
   "file_extension": ".py",
   "mimetype": "text/x-python",
   "name": "python",
   "nbconvert_exporter": "python",
   "pygments_lexer": "ipython3",
   "version": "3.6.8"
  }
 },
 "nbformat": 4,
 "nbformat_minor": 2
}
