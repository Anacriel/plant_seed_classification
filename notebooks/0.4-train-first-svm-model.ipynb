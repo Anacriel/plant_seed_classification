{
 "cells": [
  {
   "cell_type": "markdown",
   "metadata": {},
   "source": [
    "## 0.4 Train SVM model"
   ]
  },
  {
   "cell_type": "code",
   "execution_count": 336,
   "metadata": {},
   "outputs": [
    {
     "name": "stdout",
     "output_type": "stream",
     "text": [
      "/Users/anacriel/plant_seed_classification\n"
     ]
    }
   ],
   "source": [
    "cd ../"
   ]
  },
  {
   "cell_type": "code",
   "execution_count": 337,
   "metadata": {},
   "outputs": [],
   "source": [
    "import numpy as np\n",
    "import pandas as pd\n",
    "import os\n",
    "import string\n",
    "from sklearn.model_selection import cross_val_score\n",
    "from sklearn.model_selection import StratifiedShuffleSplit\n",
    "from sklearn.model_selection import GridSearchCV\n",
    "import src.features.build_features as bf"
   ]
  },
  {
   "cell_type": "code",
   "execution_count": 338,
   "metadata": {},
   "outputs": [
    {
     "name": "stdout",
     "output_type": "stream",
     "text": [
      "/Users/anacriel/plant_seed_classification/src\n"
     ]
    }
   ],
   "source": [
    "cd src/"
   ]
  },
  {
   "cell_type": "code",
   "execution_count": 339,
   "metadata": {},
   "outputs": [
    {
     "data": {
      "text/html": [
       "<div>\n",
       "<style scoped>\n",
       "    .dataframe tbody tr th:only-of-type {\n",
       "        vertical-align: middle;\n",
       "    }\n",
       "\n",
       "    .dataframe tbody tr th {\n",
       "        vertical-align: top;\n",
       "    }\n",
       "\n",
       "    .dataframe thead th {\n",
       "        text-align: right;\n",
       "    }\n",
       "</style>\n",
       "<table border=\"1\" class=\"dataframe\">\n",
       "  <thead>\n",
       "    <tr style=\"text-align: right;\">\n",
       "      <th></th>\n",
       "      <th>label</th>\n",
       "      <th>area</th>\n",
       "      <th>largest_area</th>\n",
       "      <th>perimeter</th>\n",
       "      <th>aspect_ratio</th>\n",
       "      <th>circularity</th>\n",
       "      <th>mean_r</th>\n",
       "      <th>mean_g</th>\n",
       "      <th>mean_b</th>\n",
       "      <th>stddev_r</th>\n",
       "      <th>stddev_g</th>\n",
       "      <th>stddev_b</th>\n",
       "      <th>skew_r</th>\n",
       "      <th>skew_g</th>\n",
       "      <th>skew_b</th>\n",
       "    </tr>\n",
       "  </thead>\n",
       "  <tbody>\n",
       "    <tr>\n",
       "      <td>0</td>\n",
       "      <td>9</td>\n",
       "      <td>8081.0</td>\n",
       "      <td>4496.5</td>\n",
       "      <td>559.286358</td>\n",
       "      <td>0.578094</td>\n",
       "      <td>38.708233</td>\n",
       "      <td>50.984027</td>\n",
       "      <td>60.557028</td>\n",
       "      <td>32.992428</td>\n",
       "      <td>7.096129</td>\n",
       "      <td>7.143031</td>\n",
       "      <td>7.855711</td>\n",
       "      <td>0.674907</td>\n",
       "      <td>0.227231</td>\n",
       "      <td>0.414289</td>\n",
       "    </tr>\n",
       "    <tr>\n",
       "      <td>1</td>\n",
       "      <td>9</td>\n",
       "      <td>9554.5</td>\n",
       "      <td>5435.0</td>\n",
       "      <td>548.499561</td>\n",
       "      <td>0.599365</td>\n",
       "      <td>31.487966</td>\n",
       "      <td>57.672424</td>\n",
       "      <td>67.709697</td>\n",
       "      <td>33.943030</td>\n",
       "      <td>6.194284</td>\n",
       "      <td>7.455211</td>\n",
       "      <td>7.037360</td>\n",
       "      <td>1.012593</td>\n",
       "      <td>-0.286254</td>\n",
       "      <td>0.494366</td>\n",
       "    </tr>\n",
       "    <tr>\n",
       "      <td>2</td>\n",
       "      <td>9</td>\n",
       "      <td>7064.0</td>\n",
       "      <td>3129.5</td>\n",
       "      <td>222.409161</td>\n",
       "      <td>0.968750</td>\n",
       "      <td>7.002525</td>\n",
       "      <td>57.910567</td>\n",
       "      <td>67.711947</td>\n",
       "      <td>36.566906</td>\n",
       "      <td>7.441213</td>\n",
       "      <td>7.059173</td>\n",
       "      <td>6.929987</td>\n",
       "      <td>1.284243</td>\n",
       "      <td>-0.022208</td>\n",
       "      <td>0.696010</td>\n",
       "    </tr>\n",
       "    <tr>\n",
       "      <td>3</td>\n",
       "      <td>9</td>\n",
       "      <td>8902.0</td>\n",
       "      <td>4440.0</td>\n",
       "      <td>273.279218</td>\n",
       "      <td>1.283295</td>\n",
       "      <td>8.389298</td>\n",
       "      <td>57.762575</td>\n",
       "      <td>67.379269</td>\n",
       "      <td>33.364757</td>\n",
       "      <td>6.449835</td>\n",
       "      <td>5.684232</td>\n",
       "      <td>6.536645</td>\n",
       "      <td>1.327260</td>\n",
       "      <td>0.475411</td>\n",
       "      <td>0.947661</td>\n",
       "    </tr>\n",
       "    <tr>\n",
       "      <td>4</td>\n",
       "      <td>9</td>\n",
       "      <td>11930.0</td>\n",
       "      <td>7304.5</td>\n",
       "      <td>348.575682</td>\n",
       "      <td>1.058717</td>\n",
       "      <td>10.184829</td>\n",
       "      <td>54.310651</td>\n",
       "      <td>63.228059</td>\n",
       "      <td>34.808469</td>\n",
       "      <td>7.687266</td>\n",
       "      <td>7.795908</td>\n",
       "      <td>8.403379</td>\n",
       "      <td>0.526196</td>\n",
       "      <td>0.046387</td>\n",
       "      <td>0.041887</td>\n",
       "    </tr>\n",
       "  </tbody>\n",
       "</table>\n",
       "</div>"
      ],
      "text/plain": [
       "   label     area  largest_area   perimeter  aspect_ratio  circularity  \\\n",
       "0      9   8081.0        4496.5  559.286358      0.578094    38.708233   \n",
       "1      9   9554.5        5435.0  548.499561      0.599365    31.487966   \n",
       "2      9   7064.0        3129.5  222.409161      0.968750     7.002525   \n",
       "3      9   8902.0        4440.0  273.279218      1.283295     8.389298   \n",
       "4      9  11930.0        7304.5  348.575682      1.058717    10.184829   \n",
       "\n",
       "      mean_r     mean_g     mean_b  stddev_r  stddev_g  stddev_b    skew_r  \\\n",
       "0  50.984027  60.557028  32.992428  7.096129  7.143031  7.855711  0.674907   \n",
       "1  57.672424  67.709697  33.943030  6.194284  7.455211  7.037360  1.012593   \n",
       "2  57.910567  67.711947  36.566906  7.441213  7.059173  6.929987  1.284243   \n",
       "3  57.762575  67.379269  33.364757  6.449835  5.684232  6.536645  1.327260   \n",
       "4  54.310651  63.228059  34.808469  7.687266  7.795908  8.403379  0.526196   \n",
       "\n",
       "     skew_g    skew_b  \n",
       "0  0.227231  0.414289  \n",
       "1 -0.286254  0.494366  \n",
       "2 -0.022208  0.696010  \n",
       "3  0.475411  0.947661  \n",
       "4  0.046387  0.041887  "
      ]
     },
     "execution_count": 339,
     "metadata": {},
     "output_type": "execute_result"
    }
   ],
   "source": [
    "dataset = pd.read_csv(\"data/features_3_10_19.csv\")\n",
    "dataset.drop(columns=[dataset.columns[0], dataset.columns[4]], inplace=True)\n",
    "dataset.head()"
   ]
  },
  {
   "cell_type": "code",
   "execution_count": 340,
   "metadata": {},
   "outputs": [
    {
     "data": {
      "text/plain": [
       "<function matplotlib.pyplot.show>"
      ]
     },
     "execution_count": 340,
     "metadata": {},
     "output_type": "execute_result"
    },
    {
     "data": {
      "image/png": "[encoded data removed]",
      "text/plain": [
       "<Figure size 1080x1080 with 2 Axes>"
      ]
     },
     "metadata": {},
     "output_type": "display_data"
    }
   ],
   "source": [
    "import seaborn as sns\n",
    "import matplotlib.pyplot as plt\n",
    "\n",
    "X = dataset.iloc[:, 1:]\n",
    "X.head(15)\n",
    "corr = X.corr()\n",
    "fig, ax = plt.subplots(figsize=(15, 15)) \n",
    "mask = np.zeros_like(corr)\n",
    "mask[np.triu_indices_from(mask)] = 1\n",
    "sns.heatmap(corr, mask=mask, ax=ax, annot= True)\n",
    "plt.show"
   ]
  },
  {
   "cell_type": "code",
   "execution_count": 341,
   "metadata": {},
   "outputs": [
    {
     "data": {
      "text/plain": [
       "0    9\n",
       "1    9\n",
       "2    9\n",
       "3    9\n",
       "4    9\n",
       "Name: label, dtype: int64"
      ]
     },
     "execution_count": 341,
     "metadata": {},
     "output_type": "execute_result"
    }
   ],
   "source": [
    "y = dataset.iloc[:,0]\n",
    "y.head(5)"
   ]
  },
  {
   "cell_type": "markdown",
   "metadata": {},
   "source": [
    "## Cross validational split"
   ]
  },
  {
   "cell_type": "code",
   "execution_count": 342,
   "metadata": {},
   "outputs": [],
   "source": [
    "from sklearn.model_selection import train_test_split"
   ]
  },
  {
   "cell_type": "code",
   "execution_count": 343,
   "metadata": {},
   "outputs": [],
   "source": [
    "X_train, X_test, y_train, y_test = train_test_split(X, y, test_size=0.2, random_state = 30) #r state 140"
   ]
  },
  {
   "cell_type": "code",
   "execution_count": 344,
   "metadata": {},
   "outputs": [],
   "source": [
    "from sklearn import preprocessing"
   ]
  },
  {
   "cell_type": "code",
   "execution_count": 345,
   "metadata": {},
   "outputs": [],
   "source": [
    "#X_train_std = (X_train - X_train.mean()) / X_train.std()\n",
    "#X_test_std = (X_test - X_train.mean()) / X_train.std()\n",
    "scaler = preprocessing.MinMaxScaler()\n",
    "X_train_std = scaler.fit_transform(X_train)\n",
    "X_test_std = scaler.transform(X_test)"
   ]
  },
  {
   "cell_type": "code",
   "execution_count": 346,
   "metadata": {},
   "outputs": [
    {
     "data": {
      "text/plain": [
       "array([[0.4731836 , 0.24174434, 0.06360981, ..., 0.44580994, 0.25526211,\n",
       "        0.46077956],\n",
       "       [0.55540694, 0.54767353, 0.21500128, ..., 0.2705621 , 0.29924035,\n",
       "        0.32664903],\n",
       "       [0.09054599, 0.04606426, 0.04152277, ..., 0.30986011, 0.4006289 ,\n",
       "        0.36234782],\n",
       "       ...,\n",
       "       [0.13048728, 0.1292255 , 0.09484561, ..., 0.47024091, 0.4401301 ,\n",
       "        0.32050908],\n",
       "       [0.43550874, 0.21722387, 0.05914577, ..., 0.43805775, 0.28718745,\n",
       "        0.44554364],\n",
       "       [0.5915213 , 0.59092854, 0.17079267, ..., 0.43969308, 0.44593042,\n",
       "        0.38774531]])"
      ]
     },
     "execution_count": 346,
     "metadata": {},
     "output_type": "execute_result"
    }
   ],
   "source": [
    "X_train_std"
   ]
  },
  {
   "cell_type": "code",
   "execution_count": 347,
   "metadata": {},
   "outputs": [],
   "source": [
    "from sklearn import metrics"
   ]
  },
  {
   "cell_type": "markdown",
   "metadata": {},
   "source": [
    "## Applying Decision Tree classifier"
   ]
  },
  {
   "cell_type": "code",
   "execution_count": 356,
   "metadata": {},
   "outputs": [],
   "source": [
    "from sklearn.tree import DecisionTreeClassifier"
   ]
  },
  {
   "cell_type": "code",
   "execution_count": 364,
   "metadata": {},
   "outputs": [
    {
     "data": {
      "text/plain": [
       "0.7322526315789473"
      ]
     },
     "execution_count": 364,
     "metadata": {},
     "output_type": "execute_result"
    }
   ],
   "source": [
    "f_score = 0\n",
    "for i in range(1, 51):\n",
    "    X_train, X_test, y_train, y_test = train_test_split(X, y, test_size=0.2, random_state=i) \n",
    "    scaler = preprocessing.MinMaxScaler()\n",
    "    X_train_std = scaler.fit_transform(X_train)\n",
    "    X_test_std = scaler.transform(X_test)\n",
    "\n",
    "    clf = DecisionTreeClassifier(max_depth=12)\n",
    "    clf.fit(X_train_std, y_train)\n",
    "    \n",
    "    y_pred = clf.predict(X_test_std)\n",
    "    f_score += metrics.f1_score(y_test, y_pred, average='micro')\n",
    "    \n",
    "f_score / 50"
   ]
  },
  {
   "cell_type": "markdown",
   "metadata": {},
   "source": [
    "## Applying Bayes classifier model"
   ]
  },
  {
   "cell_type": "markdown",
   "metadata": {},
   "source": [
    "#### Loop"
   ]
  },
  {
   "cell_type": "code",
   "execution_count": 350,
   "metadata": {},
   "outputs": [],
   "source": [
    "from sklearn.naive_bayes import GaussianNB"
   ]
  },
  {
   "cell_type": "code",
   "execution_count": 351,
   "metadata": {},
   "outputs": [
    {
     "data": {
      "text/plain": [
       "0.7197263157894738"
      ]
     },
     "execution_count": 351,
     "metadata": {},
     "output_type": "execute_result"
    }
   ],
   "source": [
    "f_score = 0\n",
    "for i in range(1, 51):\n",
    "    X_train, X_test, y_train, y_test = train_test_split(X, y, test_size=0.2, random_state=i) \n",
    "    scaler = preprocessing.MinMaxScaler()\n",
    "    X_train_std = scaler.fit_transform(X_train)\n",
    "    X_test_std = scaler.transform(X_test)\n",
    "\n",
    "    clf = GaussianNB()\n",
    "    clf.fit(X_train_std, y_train)\n",
    "    \n",
    "    y_pred = clf.predict(X_test_std)\n",
    "    f_score += metrics.f1_score(y_test, y_pred, average='micro')\n",
    "    \n",
    "f_score / 50"
   ]
  },
  {
   "cell_type": "markdown",
   "metadata": {},
   "source": [
    "## Applying K-means classifier model"
   ]
  },
  {
   "cell_type": "markdown",
   "metadata": {},
   "source": [
    "#### Loop"
   ]
  },
  {
   "cell_type": "code",
   "execution_count": 352,
   "metadata": {},
   "outputs": [],
   "source": [
    "from sklearn import neighbors"
   ]
  },
  {
   "cell_type": "code",
   "execution_count": 353,
   "metadata": {},
   "outputs": [
    {
     "data": {
      "text/plain": [
       "0.8471578947368426"
      ]
     },
     "execution_count": 353,
     "metadata": {},
     "output_type": "execute_result"
    }
   ],
   "source": [
    "f_score = 0\n",
    "for i in range(1, 51):\n",
    "    X_train, X_test, y_train, y_test = train_test_split(X, y, test_size=0.2, random_state=i) \n",
    "    scaler = preprocessing.MinMaxScaler()\n",
    "    X_train_std = scaler.fit_transform(X_train)\n",
    "    X_test_std = scaler.transform(X_test)\n",
    "\n",
    "    clf = neighbors.KNeighborsClassifier(n_neighbors=5, weights='distance')\n",
    "    clf.fit(X_train_std, y_train)\n",
    "    \n",
    "    y_pred = clf.predict(X_test_std)\n",
    "    f_score += metrics.f1_score(y_test, y_pred, average='micro')\n",
    "    \n",
    "f_score / 50"
   ]
  },
  {
   "cell_type": "markdown",
   "metadata": {},
   "source": [
    "## Applying SVM classifier model"
   ]
  },
  {
   "cell_type": "markdown",
   "metadata": {},
   "source": [
    "#### Loop"
   ]
  },
  {
   "cell_type": "code",
   "execution_count": 354,
   "metadata": {},
   "outputs": [],
   "source": [
    "from sklearn import svm"
   ]
  },
  {
   "cell_type": "code",
   "execution_count": 355,
   "metadata": {},
   "outputs": [
    {
     "data": {
      "text/plain": [
       "0.8848000000000001"
      ]
     },
     "execution_count": 355,
     "metadata": {},
     "output_type": "execute_result"
    }
   ],
   "source": [
    "f_score = 0\n",
    "for i in range(1, 51):\n",
    "    X_train, X_test, y_train, y_test = train_test_split(X, y, test_size=0.2, random_state=i) \n",
    "    scaler = preprocessing.MinMaxScaler()\n",
    "    X_train_std = scaler.fit_transform(X_train)\n",
    "    X_test_std = scaler.transform(X_test)\n",
    "\n",
    "    clf = svm.SVC(kernel='rbf', C=800, gamma=0.85)\n",
    "    clf.fit(X_train_std, y_train)\n",
    "    \n",
    "    y_pred = clf.predict(X_test_std)\n",
    "    f_score += metrics.f1_score(y_test, y_pred, average='micro')\n",
    "    \n",
    "f_score / 50"
   ]
  },
  {
   "cell_type": "code",
   "execution_count": 332,
   "metadata": {},
   "outputs": [
    {
     "data": {
      "text/plain": [
       "SVC(C=2900, cache_size=200, class_weight=None, coef0=0.0,\n",
       "    decision_function_shape='ovr', degree=3, gamma=0.4, kernel='rbf',\n",
       "    max_iter=-1, probability=False, random_state=None, shrinking=True,\n",
       "    tol=0.001, verbose=False)"
      ]
     },
     "execution_count": 332,
     "metadata": {},
     "output_type": "execute_result"
    }
   ],
   "source": [
    "clf = svm.SVC(kernel='rbf', C=2900, gamma=0.40)#700, 0.01, no 'corr'\n",
    "#kernel='rbf', C=2200, gamma=0.25 mahotas\n",
    "#kernel='rbf', C=2000, decision_function_shape='ovo', gamma=0.003 -rect -circ\n",
    "#kernel='rbf', C=800, decision_function_shape='ovo', gamma=0.012 - rect\n",
    "#kernel='rbf', C=3150, decision_function_shape='ovo', gamma=0.00191\n",
    "clf.fit(X_train_std, y_train)"
   ]
  },
  {
   "cell_type": "code",
   "execution_count": 333,
   "metadata": {},
   "outputs": [],
   "source": [
    "y_pred = clf.predict(X_test_std)"
   ]
  },
  {
   "cell_type": "code",
   "execution_count": 334,
   "metadata": {},
   "outputs": [
    {
     "data": {
      "text/plain": [
       "0.8873684210526316"
      ]
     },
     "execution_count": 334,
     "metadata": {},
     "output_type": "execute_result"
    }
   ],
   "source": [
    "metrics.f1_score(y_test, y_pred, average='micro')"
   ]
  },
  {
   "cell_type": "code",
   "execution_count": 335,
   "metadata": {},
   "outputs": [
    {
     "name": "stdout",
     "output_type": "stream",
     "text": [
      "              precision    recall  f1-score   support\n",
      "\n",
      "           0      0.901     0.936     0.918        78\n",
      "           1      0.877     0.909     0.893       110\n",
      "           2      0.851     0.905     0.878        95\n",
      "           3      0.947     0.934     0.940        76\n",
      "           4      0.963     0.991     0.977       106\n",
      "           5      0.953     0.891     0.921        46\n",
      "           6      0.833     0.714     0.769        56\n",
      "           7      0.800     0.889     0.842        45\n",
      "           8      0.962     0.962     0.962       106\n",
      "           9      0.885     0.852     0.868        54\n",
      "          10      0.828     0.888     0.857       125\n",
      "          11      0.757     0.528     0.622        53\n",
      "\n",
      "    accuracy                          0.887       950\n",
      "   macro avg      0.880     0.867     0.871       950\n",
      "weighted avg      0.886     0.887     0.885       950\n",
      "\n"
     ]
    }
   ],
   "source": [
    "print(metrics.classification_report(y_test, y_pred, digits=3))"
   ]
  },
  {
   "cell_type": "markdown",
   "metadata": {},
   "source": [
    "## GridSearch"
   ]
  },
  {
   "cell_type": "markdown",
   "metadata": {},
   "source": [
    "#### Doesn't work as good as I expected, have to explore more"
   ]
  },
  {
   "cell_type": "code",
   "execution_count": 70,
   "metadata": {},
   "outputs": [],
   "source": [
    "def gridSearch(DataSet, LabelSet):\n",
    "    #define logspace/interval from which c and gamma valuest are computed and saved to a dictionary to be passed as a parameter\n",
    "    #c from 1e2 to 1e4\n",
    "    C_range = np.logspace(2, 4, 6)\n",
    "    #gamma from 1e-2 to 1e2\n",
    "    gamma_range = np.logspace(-1, 1, 10)\n",
    "    param_grid = dict(gamma=gamma_range, C=C_range)\n",
    "    \n",
    "    cv = StratifiedShuffleSplit(n_splits=5, test_size=0.2, random_state=140)\n",
    "    grid = GridSearchCV(svm.SVC(), param_grid=param_grid, cv=cv, n_jobs=1)\n",
    "    grid.fit(DataSet, LabelSet)\n",
    "    \n",
    "    return grid"
   ]
  },
  {
   "cell_type": "code",
   "execution_count": 71,
   "metadata": {},
   "outputs": [],
   "source": [
    "svm_grid = gridSearch(X_train_std, y_train)"
   ]
  },
  {
   "cell_type": "code",
   "execution_count": 72,
   "metadata": {},
   "outputs": [],
   "source": [
    "y_pred_svm_grid = svm_grid.predict(X_test_std)"
   ]
  },
  {
   "cell_type": "code",
   "execution_count": 73,
   "metadata": {},
   "outputs": [
    {
     "data": {
      "text/plain": [
       "0.8789473684210526"
      ]
     },
     "execution_count": 73,
     "metadata": {},
     "output_type": "execute_result"
    }
   ],
   "source": [
    "metrics.f1_score(y_test, y_pred_svm_grid, average='micro')"
   ]
  },
  {
   "cell_type": "code",
   "execution_count": 74,
   "metadata": {},
   "outputs": [
    {
     "data": {
      "text/plain": [
       "{'C': 100.0, 'gamma': 2.1544346900318834}"
      ]
     },
     "execution_count": 74,
     "metadata": {},
     "output_type": "execute_result"
    }
   ],
   "source": [
    "svm_grid.best_params_"
   ]
  },
  {
   "cell_type": "markdown",
   "metadata": {},
   "source": [
    "## Save model"
   ]
  },
  {
   "cell_type": "code",
   "execution_count": 18,
   "metadata": {},
   "outputs": [],
   "source": [
    "import pickle"
   ]
  },
  {
   "cell_type": "code",
   "execution_count": 19,
   "metadata": {},
   "outputs": [],
   "source": [
    "# save the classifier\n",
    "with open('../models/svm_3_10_19.pkl', 'wb') as fid:\n",
    "    pickle.dump(clf, fid) "
   ]
  },
  {
   "cell_type": "markdown",
   "metadata": {},
   "source": [
    "## Checking test images"
   ]
  },
  {
   "cell_type": "code",
   "execution_count": 369,
   "metadata": {},
   "outputs": [],
   "source": [
    "import src.visualization.visualize as vs\n",
    "import src.features.build_features as bfeatures\n",
    "import cv2\n",
    "from matplotlib import pyplot as plt\n",
    "from src.data.make_dataset import create_dataset"
   ]
  },
  {
   "cell_type": "code",
   "execution_count": 370,
   "metadata": {},
   "outputs": [],
   "source": [
    "data_dir = '../data/raw/'\n",
    "test_image_dir = os.path.join(data_dir, 'test')"
   ]
  },
  {
   "cell_type": "code",
   "execution_count": 371,
   "metadata": {},
   "outputs": [
    {
     "name": "stdout",
     "output_type": "stream",
     "text": [
      "794\n"
     ]
    }
   ],
   "source": [
    "images, titles = vs.read_images(test_image_dir, data_type='test')"
   ]
  },
  {
   "cell_type": "code",
   "execution_count": 372,
   "metadata": {},
   "outputs": [
    {
     "name": "stderr",
     "output_type": "stream",
     "text": [
      "/Users/anacriel/miniconda3/lib/python3.6/site-packages/skimage/morphology/misc.py:127: UserWarning: Only one label was provided to `remove_small_objects`. Did you mean to use a boolean array?\n",
      "  warn(\"Only one label was provided to `remove_small_objects`. \"\n"
     ]
    }
   ],
   "source": [
    "features_of_img = create_dataset(images, titles, kind='title')"
   ]
  },
  {
   "cell_type": "code",
   "execution_count": 373,
   "metadata": {},
   "outputs": [],
   "source": [
    "features_of_img.drop(columns='title', inplace=True)\n",
    "#features_of_img.drop(columns=['med_r', 'med_g', 'med_b', 'entropy', 'contrast', 'correlation', 'inverse_diff_moments'], inplace=True)"
   ]
  },
  {
   "cell_type": "code",
   "execution_count": 374,
   "metadata": {},
   "outputs": [
    {
     "data": {
      "text/html": [
       "<div>\n",
       "<style scoped>\n",
       "    .dataframe tbody tr th:only-of-type {\n",
       "        vertical-align: middle;\n",
       "    }\n",
       "\n",
       "    .dataframe tbody tr th {\n",
       "        vertical-align: top;\n",
       "    }\n",
       "\n",
       "    .dataframe thead th {\n",
       "        text-align: right;\n",
       "    }\n",
       "</style>\n",
       "<table border=\"1\" class=\"dataframe\">\n",
       "  <thead>\n",
       "    <tr style=\"text-align: right;\">\n",
       "      <th></th>\n",
       "      <th>area</th>\n",
       "      <th>largest_area</th>\n",
       "      <th>number_of_elems</th>\n",
       "      <th>perimeter</th>\n",
       "      <th>aspect_ratio</th>\n",
       "      <th>circularity</th>\n",
       "      <th>mean_r</th>\n",
       "      <th>mean_g</th>\n",
       "      <th>mean_b</th>\n",
       "      <th>stddev_r</th>\n",
       "      <th>stddev_g</th>\n",
       "      <th>stddev_b</th>\n",
       "      <th>skew_r</th>\n",
       "      <th>skew_g</th>\n",
       "      <th>skew_b</th>\n",
       "    </tr>\n",
       "  </thead>\n",
       "  <tbody>\n",
       "    <tr>\n",
       "      <td>0</td>\n",
       "      <td>10518.0</td>\n",
       "      <td>10518.0</td>\n",
       "      <td>1</td>\n",
       "      <td>949.234624</td>\n",
       "      <td>0.793255</td>\n",
       "      <td>85.667082</td>\n",
       "      <td>66.520789</td>\n",
       "      <td>78.708031</td>\n",
       "      <td>27.988435</td>\n",
       "      <td>6.472557</td>\n",
       "      <td>7.376595</td>\n",
       "      <td>8.630450</td>\n",
       "      <td>1.386845</td>\n",
       "      <td>-1.300138</td>\n",
       "      <td>0.315054</td>\n",
       "    </tr>\n",
       "    <tr>\n",
       "      <td>0</td>\n",
       "      <td>1608.0</td>\n",
       "      <td>956.0</td>\n",
       "      <td>2</td>\n",
       "      <td>498.132030</td>\n",
       "      <td>2.938229</td>\n",
       "      <td>154.313134</td>\n",
       "      <td>63.693917</td>\n",
       "      <td>68.225791</td>\n",
       "      <td>37.100730</td>\n",
       "      <td>9.951622</td>\n",
       "      <td>7.456777</td>\n",
       "      <td>10.018381</td>\n",
       "      <td>1.157437</td>\n",
       "      <td>0.224095</td>\n",
       "      <td>0.525300</td>\n",
       "    </tr>\n",
       "    <tr>\n",
       "      <td>0</td>\n",
       "      <td>10166.5</td>\n",
       "      <td>10166.5</td>\n",
       "      <td>1</td>\n",
       "      <td>543.629504</td>\n",
       "      <td>2.547838</td>\n",
       "      <td>29.069300</td>\n",
       "      <td>68.862994</td>\n",
       "      <td>83.189982</td>\n",
       "      <td>30.327372</td>\n",
       "      <td>6.834141</td>\n",
       "      <td>8.523858</td>\n",
       "      <td>8.733644</td>\n",
       "      <td>-0.113649</td>\n",
       "      <td>-1.494380</td>\n",
       "      <td>0.229945</td>\n",
       "    </tr>\n",
       "    <tr>\n",
       "      <td>0</td>\n",
       "      <td>6128.0</td>\n",
       "      <td>6128.0</td>\n",
       "      <td>1</td>\n",
       "      <td>536.783833</td>\n",
       "      <td>5.387391</td>\n",
       "      <td>47.019726</td>\n",
       "      <td>69.547315</td>\n",
       "      <td>82.263266</td>\n",
       "      <td>35.556763</td>\n",
       "      <td>6.966410</td>\n",
       "      <td>8.809231</td>\n",
       "      <td>11.671117</td>\n",
       "      <td>0.769094</td>\n",
       "      <td>-0.187278</td>\n",
       "      <td>-0.348267</td>\n",
       "    </tr>\n",
       "    <tr>\n",
       "      <td>0</td>\n",
       "      <td>16510.5</td>\n",
       "      <td>16510.5</td>\n",
       "      <td>1</td>\n",
       "      <td>987.418388</td>\n",
       "      <td>0.724356</td>\n",
       "      <td>59.053031</td>\n",
       "      <td>58.101742</td>\n",
       "      <td>71.783761</td>\n",
       "      <td>32.548627</td>\n",
       "      <td>5.755955</td>\n",
       "      <td>6.157370</td>\n",
       "      <td>10.323008</td>\n",
       "      <td>0.536335</td>\n",
       "      <td>-1.126607</td>\n",
       "      <td>-0.779185</td>\n",
       "    </tr>\n",
       "  </tbody>\n",
       "</table>\n",
       "</div>"
      ],
      "text/plain": [
       "      area  largest_area number_of_elems   perimeter  aspect_ratio  \\\n",
       "0  10518.0       10518.0               1  949.234624      0.793255   \n",
       "0   1608.0         956.0               2  498.132030      2.938229   \n",
       "0  10166.5       10166.5               1  543.629504      2.547838   \n",
       "0   6128.0        6128.0               1  536.783833      5.387391   \n",
       "0  16510.5       16510.5               1  987.418388      0.724356   \n",
       "\n",
       "   circularity     mean_r     mean_g     mean_b  stddev_r  stddev_g  \\\n",
       "0    85.667082  66.520789  78.708031  27.988435  6.472557  7.376595   \n",
       "0   154.313134  63.693917  68.225791  37.100730  9.951622  7.456777   \n",
       "0    29.069300  68.862994  83.189982  30.327372  6.834141  8.523858   \n",
       "0    47.019726  69.547315  82.263266  35.556763  6.966410  8.809231   \n",
       "0    59.053031  58.101742  71.783761  32.548627  5.755955  6.157370   \n",
       "\n",
       "    stddev_b    skew_r    skew_g    skew_b  \n",
       "0   8.630450  1.386845 -1.300138  0.315054  \n",
       "0  10.018381  1.157437  0.224095  0.525300  \n",
       "0   8.733644 -0.113649 -1.494380  0.229945  \n",
       "0  11.671117  0.769094 -0.187278 -0.348267  \n",
       "0  10.323008  0.536335 -1.126607 -0.779185  "
      ]
     },
     "execution_count": 374,
     "metadata": {},
     "output_type": "execute_result"
    }
   ],
   "source": [
    "features_of_img.head(5)"
   ]
  },
  {
   "cell_type": "code",
   "execution_count": 375,
   "metadata": {},
   "outputs": [],
   "source": [
    "#features_of_img = (features_of_img - X_train.mean()) / X_train.std()\n",
    "features_of_img = scaler.transform(features_of_img)"
   ]
  },
  {
   "cell_type": "code",
   "execution_count": 376,
   "metadata": {},
   "outputs": [],
   "source": [
    "y_test_pred = clf.predict(features_of_img)"
   ]
  },
  {
   "cell_type": "code",
   "execution_count": 377,
   "metadata": {},
   "outputs": [
    {
     "data": {
      "text/plain": [
       "6"
      ]
     },
     "execution_count": 377,
     "metadata": {},
     "output_type": "execute_result"
    }
   ],
   "source": [
    "y_test_pred[0]"
   ]
  },
  {
   "cell_type": "code",
   "execution_count": 378,
   "metadata": {},
   "outputs": [
    {
     "data": {
      "text/plain": [
       "794"
      ]
     },
     "execution_count": 378,
     "metadata": {},
     "output_type": "execute_result"
    }
   ],
   "source": [
    "len(titles)"
   ]
  },
  {
   "cell_type": "code",
   "execution_count": 379,
   "metadata": {},
   "outputs": [
    {
     "data": {
      "text/plain": [
       "794"
      ]
     },
     "execution_count": 379,
     "metadata": {},
     "output_type": "execute_result"
    }
   ],
   "source": [
    "len(features_of_img)"
   ]
  },
  {
   "cell_type": "code",
   "execution_count": 380,
   "metadata": {},
   "outputs": [],
   "source": [
    "cols = {'file':titles, 'species':y_test_pred}"
   ]
  },
  {
   "cell_type": "code",
   "execution_count": 381,
   "metadata": {},
   "outputs": [],
   "source": [
    "submission_df = pd.DataFrame(data=cols)"
   ]
  },
  {
   "cell_type": "code",
   "execution_count": 382,
   "metadata": {},
   "outputs": [
    {
     "data": {
      "text/plain": [
       "file       e721c6ac8.png\n",
       "species               11\n",
       "Name: 520, dtype: object"
      ]
     },
     "execution_count": 382,
     "metadata": {},
     "output_type": "execute_result"
    }
   ],
   "source": [
    "submission_df.iloc[520]"
   ]
  },
  {
   "cell_type": "code",
   "execution_count": 383,
   "metadata": {},
   "outputs": [
    {
     "data": {
      "text/plain": [
       "<matplotlib.image.AxesImage at 0x136809358>"
      ]
     },
     "execution_count": 383,
     "metadata": {},
     "output_type": "execute_result"
    },
    {
     "data": {
      "image/png": "[encoded data removed]",
      "text/plain": [
       "<Figure size 432x288 with 1 Axes>"
      ]
     },
     "metadata": {},
     "output_type": "display_data"
    }
   ],
   "source": [
    "plt.imshow(images[791])"
   ]
  },
  {
   "cell_type": "code",
   "execution_count": 384,
   "metadata": {},
   "outputs": [
    {
     "data": {
      "text/plain": [
       "array([[0.39079307, 0.38990902, 0.08333333, ..., 0.51103215, 0.27581466,\n",
       "        0.37537758],\n",
       "       [0.05974475, 0.0341203 , 0.16666667, ..., 0.48020997, 0.47281624,\n",
       "        0.40928918],\n",
       "       [0.37773319, 0.3768302 , 0.08333333, ..., 0.30943331, 0.25070967,\n",
       "        0.36164991],\n",
       "       ...,\n",
       "       [0.27646807, 0.27541813, 0.08333333, ..., 0.36168775, 0.27569785,\n",
       "        0.6219286 ],\n",
       "       [0.46532538, 0.4645495 , 0.08333333, ..., 0.51004105, 0.40314772,\n",
       "        0.29117944],\n",
       "       [0.25038548, 0.24929769, 0.08333333, ..., 0.51009682, 0.47439198,\n",
       "        0.27868997]])"
      ]
     },
     "execution_count": 384,
     "metadata": {},
     "output_type": "execute_result"
    }
   ],
   "source": [
    "features_of_img"
   ]
  },
  {
   "cell_type": "code",
   "execution_count": 385,
   "metadata": {},
   "outputs": [
    {
     "data": {
      "text/html": [
       "<div>\n",
       "<style scoped>\n",
       "    .dataframe tbody tr th:only-of-type {\n",
       "        vertical-align: middle;\n",
       "    }\n",
       "\n",
       "    .dataframe tbody tr th {\n",
       "        vertical-align: top;\n",
       "    }\n",
       "\n",
       "    .dataframe thead th {\n",
       "        text-align: right;\n",
       "    }\n",
       "</style>\n",
       "<table border=\"1\" class=\"dataframe\">\n",
       "  <thead>\n",
       "    <tr style=\"text-align: right;\">\n",
       "      <th></th>\n",
       "      <th>file</th>\n",
       "      <th>species</th>\n",
       "    </tr>\n",
       "  </thead>\n",
       "  <tbody>\n",
       "    <tr>\n",
       "      <td>0</td>\n",
       "      <td>1b490196c.png</td>\n",
       "      <td>6</td>\n",
       "    </tr>\n",
       "    <tr>\n",
       "      <td>1</td>\n",
       "      <td>85431c075.png</td>\n",
       "      <td>10</td>\n",
       "    </tr>\n",
       "    <tr>\n",
       "      <td>2</td>\n",
       "      <td>506347cfe.png</td>\n",
       "      <td>2</td>\n",
       "    </tr>\n",
       "    <tr>\n",
       "      <td>3</td>\n",
       "      <td>7f46a71db.png</td>\n",
       "      <td>0</td>\n",
       "    </tr>\n",
       "    <tr>\n",
       "      <td>4</td>\n",
       "      <td>668c1007c.png</td>\n",
       "      <td>3</td>\n",
       "    </tr>\n",
       "    <tr>\n",
       "      <td>...</td>\n",
       "      <td>...</td>\n",
       "      <td>...</td>\n",
       "    </tr>\n",
       "    <tr>\n",
       "      <td>789</td>\n",
       "      <td>456d507c0.png</td>\n",
       "      <td>9</td>\n",
       "    </tr>\n",
       "    <tr>\n",
       "      <td>790</td>\n",
       "      <td>78b1bf91a.png</td>\n",
       "      <td>0</td>\n",
       "    </tr>\n",
       "    <tr>\n",
       "      <td>791</td>\n",
       "      <td>8cf2e3e6c.png</td>\n",
       "      <td>8</td>\n",
       "    </tr>\n",
       "    <tr>\n",
       "      <td>792</td>\n",
       "      <td>948cdb277.png</td>\n",
       "      <td>9</td>\n",
       "    </tr>\n",
       "    <tr>\n",
       "      <td>793</td>\n",
       "      <td>24c94a6ca.png</td>\n",
       "      <td>0</td>\n",
       "    </tr>\n",
       "  </tbody>\n",
       "</table>\n",
       "<p>794 rows × 2 columns</p>\n",
       "</div>"
      ],
      "text/plain": [
       "              file  species\n",
       "0    1b490196c.png        6\n",
       "1    85431c075.png       10\n",
       "2    506347cfe.png        2\n",
       "3    7f46a71db.png        0\n",
       "4    668c1007c.png        3\n",
       "..             ...      ...\n",
       "789  456d507c0.png        9\n",
       "790  78b1bf91a.png        0\n",
       "791  8cf2e3e6c.png        8\n",
       "792  948cdb277.png        9\n",
       "793  24c94a6ca.png        0\n",
       "\n",
       "[794 rows x 2 columns]"
      ]
     },
     "execution_count": 385,
     "metadata": {},
     "output_type": "execute_result"
    }
   ],
   "source": [
    "submission_df"
   ]
  },
  {
   "cell_type": "code",
   "execution_count": 386,
   "metadata": {},
   "outputs": [],
   "source": [
    "submission_df.to_csv(\"data/submission_3_10_19.csv\")"
   ]
  },
  {
   "cell_type": "code",
   "execution_count": 387,
   "metadata": {},
   "outputs": [],
   "source": [
    "mapping = { 'Sugar beet': 0, 'Fat Hen': 1, 'Scentless Mayweed' : 2, 'Charlock' : 3,\n",
    "           'Small-flowered Cranesbill': 4, 'Maize': 5, 'Shepherds Purse' :6, 'Common wheat': 7,\n",
    "           'Common Chickweed': 8, 'Cleavers': 9, 'Loose Silky-bent' : 10, 'Black-grass': 11 }"
   ]
  },
  {
   "cell_type": "code",
   "execution_count": 388,
   "metadata": {},
   "outputs": [],
   "source": [
    "mapping_rev = {v : k for k, v in mapping.items()}"
   ]
  },
  {
   "cell_type": "code",
   "execution_count": 389,
   "metadata": {},
   "outputs": [
    {
     "data": {
      "text/plain": [
       "{0: 'Sugar beet',\n",
       " 1: 'Fat Hen',\n",
       " 2: 'Scentless Mayweed',\n",
       " 3: 'Charlock',\n",
       " 4: 'Small-flowered Cranesbill',\n",
       " 5: 'Maize',\n",
       " 6: 'Shepherds Purse',\n",
       " 7: 'Common wheat',\n",
       " 8: 'Common Chickweed',\n",
       " 9: 'Cleavers',\n",
       " 10: 'Loose Silky-bent',\n",
       " 11: 'Black-grass'}"
      ]
     },
     "execution_count": 389,
     "metadata": {},
     "output_type": "execute_result"
    }
   ],
   "source": [
    "mapping_rev"
   ]
  },
  {
   "cell_type": "code",
   "execution_count": 390,
   "metadata": {},
   "outputs": [
    {
     "data": {
      "text/html": [
       "<div>\n",
       "<style scoped>\n",
       "    .dataframe tbody tr th:only-of-type {\n",
       "        vertical-align: middle;\n",
       "    }\n",
       "\n",
       "    .dataframe tbody tr th {\n",
       "        vertical-align: top;\n",
       "    }\n",
       "\n",
       "    .dataframe thead th {\n",
       "        text-align: right;\n",
       "    }\n",
       "</style>\n",
       "<table border=\"1\" class=\"dataframe\">\n",
       "  <thead>\n",
       "    <tr style=\"text-align: right;\">\n",
       "      <th></th>\n",
       "      <th>file</th>\n",
       "      <th>species</th>\n",
       "    </tr>\n",
       "  </thead>\n",
       "  <tbody>\n",
       "    <tr>\n",
       "      <td>0</td>\n",
       "      <td>1b490196c.png</td>\n",
       "      <td>Shepherds Purse</td>\n",
       "    </tr>\n",
       "    <tr>\n",
       "      <td>1</td>\n",
       "      <td>85431c075.png</td>\n",
       "      <td>Loose Silky-bent</td>\n",
       "    </tr>\n",
       "    <tr>\n",
       "      <td>2</td>\n",
       "      <td>506347cfe.png</td>\n",
       "      <td>Scentless Mayweed</td>\n",
       "    </tr>\n",
       "    <tr>\n",
       "      <td>3</td>\n",
       "      <td>7f46a71db.png</td>\n",
       "      <td>Sugar beet</td>\n",
       "    </tr>\n",
       "    <tr>\n",
       "      <td>4</td>\n",
       "      <td>668c1007c.png</td>\n",
       "      <td>Charlock</td>\n",
       "    </tr>\n",
       "    <tr>\n",
       "      <td>...</td>\n",
       "      <td>...</td>\n",
       "      <td>...</td>\n",
       "    </tr>\n",
       "    <tr>\n",
       "      <td>789</td>\n",
       "      <td>456d507c0.png</td>\n",
       "      <td>Cleavers</td>\n",
       "    </tr>\n",
       "    <tr>\n",
       "      <td>790</td>\n",
       "      <td>78b1bf91a.png</td>\n",
       "      <td>Sugar beet</td>\n",
       "    </tr>\n",
       "    <tr>\n",
       "      <td>791</td>\n",
       "      <td>8cf2e3e6c.png</td>\n",
       "      <td>Common Chickweed</td>\n",
       "    </tr>\n",
       "    <tr>\n",
       "      <td>792</td>\n",
       "      <td>948cdb277.png</td>\n",
       "      <td>Cleavers</td>\n",
       "    </tr>\n",
       "    <tr>\n",
       "      <td>793</td>\n",
       "      <td>24c94a6ca.png</td>\n",
       "      <td>Sugar beet</td>\n",
       "    </tr>\n",
       "  </tbody>\n",
       "</table>\n",
       "<p>794 rows × 2 columns</p>\n",
       "</div>"
      ],
      "text/plain": [
       "              file            species\n",
       "0    1b490196c.png    Shepherds Purse\n",
       "1    85431c075.png   Loose Silky-bent\n",
       "2    506347cfe.png  Scentless Mayweed\n",
       "3    7f46a71db.png         Sugar beet\n",
       "4    668c1007c.png           Charlock\n",
       "..             ...                ...\n",
       "789  456d507c0.png           Cleavers\n",
       "790  78b1bf91a.png         Sugar beet\n",
       "791  8cf2e3e6c.png   Common Chickweed\n",
       "792  948cdb277.png           Cleavers\n",
       "793  24c94a6ca.png         Sugar beet\n",
       "\n",
       "[794 rows x 2 columns]"
      ]
     },
     "execution_count": 390,
     "metadata": {},
     "output_type": "execute_result"
    }
   ],
   "source": [
    "submission_df.species.replace(mapping_rev, inplace=True); submission_df"
   ]
  },
  {
   "cell_type": "code",
   "execution_count": 391,
   "metadata": {},
   "outputs": [],
   "source": [
    "submission_df.to_csv(\"/Users/anacriel/Desktop/submission.csv\", index=False)"
   ]
  },
  {
   "cell_type": "code",
   "execution_count": null,
   "metadata": {},
   "outputs": [],
   "source": []
  }
 ],
 "metadata": {
  "kernelspec": {
   "display_name": "Python 3",
   "language": "python",
   "name": "python3"
  },
  "language_info": {
   "codemirror_mode": {
    "name": "ipython",
    "version": 3
   },
   "file_extension": ".py",
   "mimetype": "text/x-python",
   "name": "python",
   "nbconvert_exporter": "python",
   "pygments_lexer": "ipython3",
   "version": "3.6.4"
  }
 },
 "nbformat": 4,
 "nbformat_minor": 2
}
