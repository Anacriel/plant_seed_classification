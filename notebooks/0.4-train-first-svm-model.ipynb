{
 "cells": [
  {
   "cell_type": "markdown",
   "metadata": {},
   "source": [
    "## 0.4 Train SVM model"
   ]
  },
  {
   "cell_type": "code",
   "execution_count": 1,
   "metadata": {},
   "outputs": [
    {
     "name": "stdout",
     "output_type": "stream",
     "text": [
      "/Users/anacriel/plant_seed_classification\n"
     ]
    }
   ],
   "source": [
    "cd ../"
   ]
  },
  {
   "cell_type": "code",
   "execution_count": 2,
   "metadata": {},
   "outputs": [],
   "source": [
    "import numpy as np\n",
    "import pandas as pd\n",
    "import os\n",
    "import string\n",
    "from sklearn.model_selection import cross_val_score\n",
    "from sklearn.model_selection import StratifiedShuffleSplit\n",
    "from sklearn.model_selection import GridSearchCV\n",
    "import src.features.build_features as bf"
   ]
  },
  {
   "cell_type": "code",
   "execution_count": 3,
   "metadata": {},
   "outputs": [
    {
     "name": "stdout",
     "output_type": "stream",
     "text": [
      "/Users/anacriel/plant_seed_classification/src\n"
     ]
    }
   ],
   "source": [
    "cd src/"
   ]
  },
  {
   "cell_type": "code",
   "execution_count": 4,
   "metadata": {},
   "outputs": [],
   "source": [
    "dataset = pd.read_csv(\"data/features_3_10_19.csv\")"
   ]
  },
  {
   "cell_type": "code",
   "execution_count": 5,
   "metadata": {},
   "outputs": [
    {
     "data": {
      "text/plain": [
       "<function matplotlib.pyplot.show>"
      ]
     },
     "execution_count": 5,
     "metadata": {},
     "output_type": "execute_result"
    }
   ],
   "source": [
    "import seaborn as sns\n",
    "import matplotlib.pyplot as plt\n",
    "\n",
    "X = dataset.iloc[:, 2:]\n",
    "X.head(15)\n",
    "corr = X.corr()\n",
    "fig, ax = plt.subplots(figsize=(15, 15)) \n",
    "mask = np.zeros_like(corr)\n",
    "mask[np.triu_indices_from(mask)] = 1\n",
    "sns.heatmap(corr, mask=mask, ax=ax, annot= True)\n",
    "plt.show"
   ]
  },
  {
   "cell_type": "code",
   "execution_count": 6,
   "metadata": {},
   "outputs": [
    {
     "data": {
      "text/plain": [
       "0    9\n",
       "1    9\n",
       "2    9\n",
       "3    9\n",
       "4    9\n",
       "Name: label, dtype: int64"
      ]
     },
     "execution_count": 6,
     "metadata": {},
     "output_type": "execute_result"
    }
   ],
   "source": [
    "y = dataset.iloc[:,1]\n",
    "y.head(5)"
   ]
  },
  {
   "cell_type": "markdown",
   "metadata": {},
   "source": [
    "## Cross validational split"
   ]
  },
  {
   "cell_type": "code",
   "execution_count": 7,
   "metadata": {},
   "outputs": [],
   "source": [
    "from sklearn.model_selection import train_test_split"
   ]
  },
  {
   "cell_type": "code",
   "execution_count": 8,
   "metadata": {},
   "outputs": [],
   "source": [
    "X_train, X_test, y_train, y_test = train_test_split(X, y, test_size=0.2, random_state = 140) #r state 140"
   ]
  },
  {
   "cell_type": "code",
   "execution_count": 9,
   "metadata": {},
   "outputs": [],
   "source": [
    "from sklearn import preprocessing"
   ]
  },
  {
   "cell_type": "code",
   "execution_count": 10,
   "metadata": {},
   "outputs": [],
   "source": [
    "#X_train_std = (X_train - X_train.mean()) / X_train.std()\n",
    "#X_test_std = (X_test - X_train.mean()) / X_train.std()\n",
    "scaler = preprocessing.MinMaxScaler()\n",
    "X_train_std = scaler.fit_transform(X_train)\n",
    "X_test_std = scaler.transform(X_test)"
   ]
  },
  {
   "cell_type": "code",
   "execution_count": 11,
   "metadata": {},
   "outputs": [
    {
     "data": {
      "text/plain": [
       "array([[0.43993015, 0.43911741, 0.08333333, ..., 0.44057645, 0.44614701,\n",
       "        0.32915285],\n",
       "       [0.08320794, 0.08187755, 0.08333333, ..., 0.62740268, 0.76076959,\n",
       "        0.4780844 ],\n",
       "       [0.30099017, 0.10455619, 0.33333333, ..., 0.51735006, 0.47882506,\n",
       "        0.47449643],\n",
       "       ...,\n",
       "       [0.4357874 , 0.43496865, 0.08333333, ..., 0.49868326, 0.33492234,\n",
       "        0.48574807],\n",
       "       [0.37284735, 0.37193727, 0.08333333, ..., 0.53285375, 0.46259792,\n",
       "        0.16410236],\n",
       "       [0.24984674, 0.24875816, 0.08333333, ..., 0.42065503, 0.4717402 ,\n",
       "        0.25834122]])"
      ]
     },
     "execution_count": 11,
     "metadata": {},
     "output_type": "execute_result"
    }
   ],
   "source": [
    "X_train_std"
   ]
  },
  {
   "cell_type": "markdown",
   "metadata": {},
   "source": [
    "## Applying SVM classifier model"
   ]
  },
  {
   "cell_type": "code",
   "execution_count": 12,
   "metadata": {},
   "outputs": [],
   "source": [
    "from sklearn import svm"
   ]
  },
  {
   "cell_type": "code",
   "execution_count": 13,
   "metadata": {},
   "outputs": [
    {
     "data": {
      "text/plain": [
       "SVC(C=2500, cache_size=200, class_weight=None, coef0=0.0,\n",
       "    decision_function_shape='ovr', degree=3, gamma=0.25, kernel='rbf',\n",
       "    max_iter=-1, probability=False, random_state=None, shrinking=True,\n",
       "    tol=0.001, verbose=False)"
      ]
     },
     "execution_count": 13,
     "metadata": {},
     "output_type": "execute_result"
    }
   ],
   "source": [
    "clf = svm.SVC(kernel='rbf', C=2500, gamma=0.25)#700, 0.01, no 'corr'\n",
    "#kernel='rbf', C=2200, gamma=0.25 mahotas\n",
    "#kernel='rbf', C=2000, decision_function_shape='ovo', gamma=0.003 -rect -circ\n",
    "#kernel='rbf', C=800, decision_function_shape='ovo', gamma=0.012 - rect\n",
    "#kernel='rbf', C=3150, decision_function_shape='ovo', gamma=0.00191\n",
    "clf.fit(X_train_std, y_train)"
   ]
  },
  {
   "cell_type": "code",
   "execution_count": 14,
   "metadata": {},
   "outputs": [],
   "source": [
    "y_pred = clf.predict(X_test_std)"
   ]
  },
  {
   "cell_type": "code",
   "execution_count": 15,
   "metadata": {},
   "outputs": [],
   "source": [
    "from sklearn import metrics"
   ]
  },
  {
   "cell_type": "code",
   "execution_count": 16,
   "metadata": {},
   "outputs": [
    {
     "data": {
      "text/plain": [
       "0.8863157894736842"
      ]
     },
     "execution_count": 16,
     "metadata": {},
     "output_type": "execute_result"
    }
   ],
   "source": [
    "metrics.f1_score(y_test, y_pred, average='micro')"
   ]
  },
  {
   "cell_type": "code",
   "execution_count": 17,
   "metadata": {},
   "outputs": [
    {
     "name": "stdout",
     "output_type": "stream",
     "text": [
      "              precision    recall  f1-score   support\n",
      "\n",
      "           0       0.91      0.98      0.94        86\n",
      "           1       0.91      0.94      0.92       113\n",
      "           2       0.86      0.87      0.87       111\n",
      "           3       0.89      0.94      0.91        67\n",
      "           4       0.95      0.97      0.96       106\n",
      "           5       0.92      0.90      0.91        40\n",
      "           6       0.81      0.73      0.77        48\n",
      "           7       0.85      0.85      0.85        53\n",
      "           8       0.92      0.92      0.92       108\n",
      "           9       0.87      0.82      0.84        55\n",
      "          10       0.88      0.82      0.85       119\n",
      "          11       0.72      0.70      0.71        44\n",
      "\n",
      "    accuracy                           0.89       950\n",
      "   macro avg       0.87      0.87      0.87       950\n",
      "weighted avg       0.89      0.89      0.89       950\n",
      "\n"
     ]
    }
   ],
   "source": [
    "print(metrics.classification_report(y_test, y_pred))"
   ]
  },
  {
   "cell_type": "markdown",
   "metadata": {},
   "source": [
    "## GridSearch"
   ]
  },
  {
   "cell_type": "markdown",
   "metadata": {},
   "source": [
    "#### Doesn't work as good as I expected, have to explore more"
   ]
  },
  {
   "cell_type": "code",
   "execution_count": 19,
   "metadata": {},
   "outputs": [],
   "source": [
    "def gridSearch(DataSet, LabelSet):\n",
    "    #define logspace/interval from which c and gamma valuest are computed and saved to a dictionary to be passed as a parameter\n",
    "    #c from 1e2 to 1e4\n",
    "    C_range = np.logspace(2, 4, 10)\n",
    "    #gamma from 1e-2 to 1e2\n",
    "    gamma_range = np.logspace(-2, 2, 10)\n",
    "    param_grid = dict(gamma=gamma_range, C=C_range)\n",
    "    \n",
    "    cv = StratifiedShuffleSplit(n_splits=5, test_size=0.2, random_state=42)\n",
    "    grid = GridSearchCV(svm.SVC(), param_grid=param_grid, cv=cv, n_jobs=1)\n",
    "    grid.fit(DataSet, LabelSet)\n",
    "    \n",
    "    return grid"
   ]
  },
  {
   "cell_type": "code",
   "execution_count": null,
   "metadata": {},
   "outputs": [],
   "source": [
    "svm_grid = gridSearch(X_train_std, y_train)"
   ]
  },
  {
   "cell_type": "code",
   "execution_count": null,
   "metadata": {},
   "outputs": [],
   "source": [
    "y_pred_svm_grid = svm_grid.predict(X_test_std)"
   ]
  },
  {
   "cell_type": "code",
   "execution_count": null,
   "metadata": {},
   "outputs": [],
   "source": [
    "metrics.f1_score(y_test, y_pred_svm_grid, average='micro')"
   ]
  },
  {
   "cell_type": "code",
   "execution_count": null,
   "metadata": {},
   "outputs": [],
   "source": [
    "svm_grid.best_params_"
   ]
  },
  {
   "cell_type": "markdown",
   "metadata": {},
   "source": [
    "## Save model"
   ]
  },
  {
   "cell_type": "code",
   "execution_count": 18,
   "metadata": {},
   "outputs": [],
   "source": [
    "import pickle"
   ]
  },
  {
   "cell_type": "code",
   "execution_count": 19,
   "metadata": {},
   "outputs": [],
   "source": [
    "# save the classifier\n",
    "with open('../models/svm_3_10_19.pkl', 'wb') as fid:\n",
    "    pickle.dump(clf, fid) "
   ]
  },
  {
   "cell_type": "markdown",
   "metadata": {},
   "source": [
    "## Checking test images"
   ]
  },
  {
   "cell_type": "code",
   "execution_count": 20,
   "metadata": {},
   "outputs": [],
   "source": [
    "import src.visualization.visualize as vs\n",
    "import src.features.build_features as bfeatures\n",
    "import cv2\n",
    "from matplotlib import pyplot as plt\n",
    "from src.data.make_dataset import create_dataset"
   ]
  },
  {
   "cell_type": "code",
   "execution_count": 21,
   "metadata": {},
   "outputs": [],
   "source": [
    "data_dir = '../data/raw/'\n",
    "test_image_dir = os.path.join(data_dir, 'test')"
   ]
  },
  {
   "cell_type": "code",
   "execution_count": 22,
   "metadata": {},
   "outputs": [
    {
     "name": "stdout",
     "output_type": "stream",
     "text": [
      "794\n"
     ]
    }
   ],
   "source": [
    "images, titles = vs.read_images(test_image_dir, data_type='test')"
   ]
  },
  {
   "cell_type": "code",
   "execution_count": 23,
   "metadata": {},
   "outputs": [
    {
     "name": "stderr",
     "output_type": "stream",
     "text": [
      "/Users/anacriel/miniconda3/lib/python3.6/site-packages/skimage/morphology/misc.py:132: UserWarning: Only one label was provided to `remove_small_objects`. Did you mean to use a boolean array?\n",
      "  warn(\"Only one label was provided to `remove_small_objects`. \"\n"
     ]
    }
   ],
   "source": [
    "features_of_img = create_dataset(images, titles, kind='title')"
   ]
  },
  {
   "cell_type": "code",
   "execution_count": 24,
   "metadata": {},
   "outputs": [],
   "source": [
    "features_of_img.drop(columns='title', inplace=True)\n",
    "#features_of_img.drop(columns=['med_r', 'med_g', 'med_b', 'entropy', 'contrast', 'correlation', 'inverse_diff_moments'], inplace=True)"
   ]
  },
  {
   "cell_type": "code",
   "execution_count": 25,
   "metadata": {},
   "outputs": [
    {
     "data": {
      "text/html": [
       "<div>\n",
       "<style scoped>\n",
       "    .dataframe tbody tr th:only-of-type {\n",
       "        vertical-align: middle;\n",
       "    }\n",
       "\n",
       "    .dataframe tbody tr th {\n",
       "        vertical-align: top;\n",
       "    }\n",
       "\n",
       "    .dataframe thead th {\n",
       "        text-align: right;\n",
       "    }\n",
       "</style>\n",
       "<table border=\"1\" class=\"dataframe\">\n",
       "  <thead>\n",
       "    <tr style=\"text-align: right;\">\n",
       "      <th></th>\n",
       "      <th>area</th>\n",
       "      <th>largest_area</th>\n",
       "      <th>number_of_elems</th>\n",
       "      <th>perimeter</th>\n",
       "      <th>aspect_ratio</th>\n",
       "      <th>circularity</th>\n",
       "      <th>mean_r</th>\n",
       "      <th>mean_g</th>\n",
       "      <th>mean_b</th>\n",
       "      <th>stddev_r</th>\n",
       "      <th>stddev_g</th>\n",
       "      <th>stddev_b</th>\n",
       "      <th>skew_r</th>\n",
       "      <th>skew_g</th>\n",
       "      <th>skew_b</th>\n",
       "    </tr>\n",
       "  </thead>\n",
       "  <tbody>\n",
       "    <tr>\n",
       "      <td>0</td>\n",
       "      <td>10518.0</td>\n",
       "      <td>10518.0</td>\n",
       "      <td>1</td>\n",
       "      <td>949.234624</td>\n",
       "      <td>1.073864</td>\n",
       "      <td>85.667082</td>\n",
       "      <td>66.520789</td>\n",
       "      <td>78.708031</td>\n",
       "      <td>27.988435</td>\n",
       "      <td>6.472557</td>\n",
       "      <td>7.376595</td>\n",
       "      <td>8.630450</td>\n",
       "      <td>1.386845</td>\n",
       "      <td>-1.300138</td>\n",
       "      <td>0.315054</td>\n",
       "    </tr>\n",
       "    <tr>\n",
       "      <td>0</td>\n",
       "      <td>1608.0</td>\n",
       "      <td>956.0</td>\n",
       "      <td>2</td>\n",
       "      <td>498.132030</td>\n",
       "      <td>0.402516</td>\n",
       "      <td>154.313134</td>\n",
       "      <td>63.693917</td>\n",
       "      <td>68.225791</td>\n",
       "      <td>37.100730</td>\n",
       "      <td>9.951622</td>\n",
       "      <td>7.456777</td>\n",
       "      <td>10.018381</td>\n",
       "      <td>1.157437</td>\n",
       "      <td>0.224095</td>\n",
       "      <td>0.525300</td>\n",
       "    </tr>\n",
       "    <tr>\n",
       "      <td>0</td>\n",
       "      <td>10166.5</td>\n",
       "      <td>10166.5</td>\n",
       "      <td>1</td>\n",
       "      <td>543.629504</td>\n",
       "      <td>1.927083</td>\n",
       "      <td>29.069300</td>\n",
       "      <td>68.862994</td>\n",
       "      <td>83.189982</td>\n",
       "      <td>30.327372</td>\n",
       "      <td>6.834141</td>\n",
       "      <td>8.523858</td>\n",
       "      <td>8.733644</td>\n",
       "      <td>-0.113649</td>\n",
       "      <td>-1.494380</td>\n",
       "      <td>0.229945</td>\n",
       "    </tr>\n",
       "    <tr>\n",
       "      <td>0</td>\n",
       "      <td>6128.0</td>\n",
       "      <td>6128.0</td>\n",
       "      <td>1</td>\n",
       "      <td>536.783833</td>\n",
       "      <td>0.724868</td>\n",
       "      <td>47.019726</td>\n",
       "      <td>69.547315</td>\n",
       "      <td>82.263266</td>\n",
       "      <td>35.556763</td>\n",
       "      <td>6.966410</td>\n",
       "      <td>8.809231</td>\n",
       "      <td>11.671117</td>\n",
       "      <td>0.769094</td>\n",
       "      <td>-0.187278</td>\n",
       "      <td>-0.348267</td>\n",
       "    </tr>\n",
       "    <tr>\n",
       "      <td>0</td>\n",
       "      <td>16510.5</td>\n",
       "      <td>16510.5</td>\n",
       "      <td>1</td>\n",
       "      <td>987.418388</td>\n",
       "      <td>0.984293</td>\n",
       "      <td>59.053031</td>\n",
       "      <td>58.101742</td>\n",
       "      <td>71.783761</td>\n",
       "      <td>32.548627</td>\n",
       "      <td>5.755955</td>\n",
       "      <td>6.157370</td>\n",
       "      <td>10.323008</td>\n",
       "      <td>0.536335</td>\n",
       "      <td>-1.126607</td>\n",
       "      <td>-0.779185</td>\n",
       "    </tr>\n",
       "  </tbody>\n",
       "</table>\n",
       "</div>"
      ],
      "text/plain": [
       "      area  largest_area number_of_elems   perimeter  aspect_ratio  \\\n",
       "0  10518.0       10518.0               1  949.234624      1.073864   \n",
       "0   1608.0         956.0               2  498.132030      0.402516   \n",
       "0  10166.5       10166.5               1  543.629504      1.927083   \n",
       "0   6128.0        6128.0               1  536.783833      0.724868   \n",
       "0  16510.5       16510.5               1  987.418388      0.984293   \n",
       "\n",
       "   circularity     mean_r     mean_g     mean_b  stddev_r  stddev_g  \\\n",
       "0    85.667082  66.520789  78.708031  27.988435  6.472557  7.376595   \n",
       "0   154.313134  63.693917  68.225791  37.100730  9.951622  7.456777   \n",
       "0    29.069300  68.862994  83.189982  30.327372  6.834141  8.523858   \n",
       "0    47.019726  69.547315  82.263266  35.556763  6.966410  8.809231   \n",
       "0    59.053031  58.101742  71.783761  32.548627  5.755955  6.157370   \n",
       "\n",
       "    stddev_b    skew_r    skew_g    skew_b  \n",
       "0   8.630450  1.386845 -1.300138  0.315054  \n",
       "0  10.018381  1.157437  0.224095  0.525300  \n",
       "0   8.733644 -0.113649 -1.494380  0.229945  \n",
       "0  11.671117  0.769094 -0.187278 -0.348267  \n",
       "0  10.323008  0.536335 -1.126607 -0.779185  "
      ]
     },
     "execution_count": 25,
     "metadata": {},
     "output_type": "execute_result"
    }
   ],
   "source": [
    "features_of_img.head(5)"
   ]
  },
  {
   "cell_type": "code",
   "execution_count": 26,
   "metadata": {},
   "outputs": [],
   "source": [
    "#features_of_img = (features_of_img - X_train.mean()) / X_train.std()\n",
    "features_of_img = scaler.transform(features_of_img)"
   ]
  },
  {
   "cell_type": "code",
   "execution_count": 27,
   "metadata": {},
   "outputs": [],
   "source": [
    "y_test_pred = clf.predict(features_of_img)"
   ]
  },
  {
   "cell_type": "code",
   "execution_count": 28,
   "metadata": {},
   "outputs": [
    {
     "data": {
      "text/plain": [
       "6"
      ]
     },
     "execution_count": 28,
     "metadata": {},
     "output_type": "execute_result"
    }
   ],
   "source": [
    "y_test_pred[0]"
   ]
  },
  {
   "cell_type": "code",
   "execution_count": 29,
   "metadata": {},
   "outputs": [
    {
     "data": {
      "text/plain": [
       "794"
      ]
     },
     "execution_count": 29,
     "metadata": {},
     "output_type": "execute_result"
    }
   ],
   "source": [
    "len(titles)"
   ]
  },
  {
   "cell_type": "code",
   "execution_count": 30,
   "metadata": {},
   "outputs": [
    {
     "data": {
      "text/plain": [
       "794"
      ]
     },
     "execution_count": 30,
     "metadata": {},
     "output_type": "execute_result"
    }
   ],
   "source": [
    "len(features_of_img)"
   ]
  },
  {
   "cell_type": "code",
   "execution_count": 31,
   "metadata": {},
   "outputs": [],
   "source": [
    "cols = {'file':titles, 'species':y_test_pred}"
   ]
  },
  {
   "cell_type": "code",
   "execution_count": 32,
   "metadata": {},
   "outputs": [],
   "source": [
    "submission_df = pd.DataFrame(data=cols)"
   ]
  },
  {
   "cell_type": "code",
   "execution_count": 33,
   "metadata": {},
   "outputs": [
    {
     "data": {
      "text/plain": [
       "file       e721c6ac8.png\n",
       "species               10\n",
       "Name: 520, dtype: object"
      ]
     },
     "execution_count": 33,
     "metadata": {},
     "output_type": "execute_result"
    }
   ],
   "source": [
    "submission_df.iloc[520]"
   ]
  },
  {
   "cell_type": "code",
   "execution_count": 34,
   "metadata": {},
   "outputs": [
    {
     "data": {
      "text/plain": [
       "<matplotlib.image.AxesImage at 0x134819eb8>"
      ]
     },
     "execution_count": 34,
     "metadata": {},
     "output_type": "execute_result"
    },
    {
     "data": {
      "image/png": "[encoded data removed]",
      "text/plain": [
       "<Figure size 432x288 with 1 Axes>"
      ]
     },
     "metadata": {},
     "output_type": "display_data"
    }
   ],
   "source": [
    "plt.imshow(images[791])"
   ]
  },
  {
   "cell_type": "code",
   "execution_count": 35,
   "metadata": {},
   "outputs": [
    {
     "data": {
      "text/plain": [
       "array([[0.39079307, 0.38990902, 0.08333333, ..., 0.63105425, 0.31459976,\n",
       "        0.37537758],\n",
       "       [0.05974475, 0.0341203 , 0.16666667, ..., 0.59299311, 0.53930372,\n",
       "        0.40928918],\n",
       "       [0.37773319, 0.3768302 , 0.08333333, ..., 0.38210748, 0.2859645 ,\n",
       "        0.36164991],\n",
       "       ...,\n",
       "       [0.27646807, 0.27541813, 0.08333333, ..., 0.44663451, 0.31446652,\n",
       "        0.6219286 ],\n",
       "       [0.46532538, 0.4645495 , 0.08333333, ..., 0.62983039, 0.45983841,\n",
       "        0.29117944],\n",
       "       [0.25038548, 0.24929769, 0.08333333, ..., 0.62989926, 0.54110105,\n",
       "        0.27868997]])"
      ]
     },
     "execution_count": 35,
     "metadata": {},
     "output_type": "execute_result"
    }
   ],
   "source": [
    "features_of_img"
   ]
  },
  {
   "cell_type": "code",
   "execution_count": 36,
   "metadata": {},
   "outputs": [
    {
     "data": {
      "text/html": [
       "<div>\n",
       "<style scoped>\n",
       "    .dataframe tbody tr th:only-of-type {\n",
       "        vertical-align: middle;\n",
       "    }\n",
       "\n",
       "    .dataframe tbody tr th {\n",
       "        vertical-align: top;\n",
       "    }\n",
       "\n",
       "    .dataframe thead th {\n",
       "        text-align: right;\n",
       "    }\n",
       "</style>\n",
       "<table border=\"1\" class=\"dataframe\">\n",
       "  <thead>\n",
       "    <tr style=\"text-align: right;\">\n",
       "      <th></th>\n",
       "      <th>file</th>\n",
       "      <th>species</th>\n",
       "    </tr>\n",
       "  </thead>\n",
       "  <tbody>\n",
       "    <tr>\n",
       "      <td>0</td>\n",
       "      <td>1b490196c.png</td>\n",
       "      <td>6</td>\n",
       "    </tr>\n",
       "    <tr>\n",
       "      <td>1</td>\n",
       "      <td>85431c075.png</td>\n",
       "      <td>10</td>\n",
       "    </tr>\n",
       "    <tr>\n",
       "      <td>2</td>\n",
       "      <td>506347cfe.png</td>\n",
       "      <td>2</td>\n",
       "    </tr>\n",
       "    <tr>\n",
       "      <td>3</td>\n",
       "      <td>7f46a71db.png</td>\n",
       "      <td>0</td>\n",
       "    </tr>\n",
       "    <tr>\n",
       "      <td>4</td>\n",
       "      <td>668c1007c.png</td>\n",
       "      <td>3</td>\n",
       "    </tr>\n",
       "    <tr>\n",
       "      <td>...</td>\n",
       "      <td>...</td>\n",
       "      <td>...</td>\n",
       "    </tr>\n",
       "    <tr>\n",
       "      <td>789</td>\n",
       "      <td>456d507c0.png</td>\n",
       "      <td>9</td>\n",
       "    </tr>\n",
       "    <tr>\n",
       "      <td>790</td>\n",
       "      <td>78b1bf91a.png</td>\n",
       "      <td>0</td>\n",
       "    </tr>\n",
       "    <tr>\n",
       "      <td>791</td>\n",
       "      <td>8cf2e3e6c.png</td>\n",
       "      <td>8</td>\n",
       "    </tr>\n",
       "    <tr>\n",
       "      <td>792</td>\n",
       "      <td>948cdb277.png</td>\n",
       "      <td>9</td>\n",
       "    </tr>\n",
       "    <tr>\n",
       "      <td>793</td>\n",
       "      <td>24c94a6ca.png</td>\n",
       "      <td>3</td>\n",
       "    </tr>\n",
       "  </tbody>\n",
       "</table>\n",
       "<p>794 rows × 2 columns</p>\n",
       "</div>"
      ],
      "text/plain": [
       "              file  species\n",
       "0    1b490196c.png        6\n",
       "1    85431c075.png       10\n",
       "2    506347cfe.png        2\n",
       "3    7f46a71db.png        0\n",
       "4    668c1007c.png        3\n",
       "..             ...      ...\n",
       "789  456d507c0.png        9\n",
       "790  78b1bf91a.png        0\n",
       "791  8cf2e3e6c.png        8\n",
       "792  948cdb277.png        9\n",
       "793  24c94a6ca.png        3\n",
       "\n",
       "[794 rows x 2 columns]"
      ]
     },
     "execution_count": 36,
     "metadata": {},
     "output_type": "execute_result"
    }
   ],
   "source": [
    "submission_df"
   ]
  },
  {
   "cell_type": "code",
   "execution_count": 37,
   "metadata": {},
   "outputs": [],
   "source": [
    "submission_df.to_csv(\"data/submission_3_10_19.csv\")"
   ]
  },
  {
   "cell_type": "code",
   "execution_count": 38,
   "metadata": {},
   "outputs": [],
   "source": [
    "mapping = { 'Sugar beet': 0, 'Fat Hen': 1, 'Scentless Mayweed' : 2, 'Charlock' : 3,\n",
    "           'Small-flowered Cranesbill': 4, 'Maize': 5, 'Shepherds Purse' :6, 'Common wheat': 7,\n",
    "           'Common Chickweed': 8, 'Cleavers': 9, 'Loose Silky-bent' : 10, 'Black-grass': 11 }"
   ]
  },
  {
   "cell_type": "code",
   "execution_count": 39,
   "metadata": {},
   "outputs": [],
   "source": [
    "mapping_rev = {v : k for k, v in mapping.items()}"
   ]
  },
  {
   "cell_type": "code",
   "execution_count": 40,
   "metadata": {},
   "outputs": [
    {
     "data": {
      "text/plain": [
       "{0: 'Sugar beet',\n",
       " 1: 'Fat Hen',\n",
       " 2: 'Scentless Mayweed',\n",
       " 3: 'Charlock',\n",
       " 4: 'Small-flowered Cranesbill',\n",
       " 5: 'Maize',\n",
       " 6: 'Shepherds Purse',\n",
       " 7: 'Common wheat',\n",
       " 8: 'Common Chickweed',\n",
       " 9: 'Cleavers',\n",
       " 10: 'Loose Silky-bent',\n",
       " 11: 'Black-grass'}"
      ]
     },
     "execution_count": 40,
     "metadata": {},
     "output_type": "execute_result"
    }
   ],
   "source": [
    "mapping_rev"
   ]
  },
  {
   "cell_type": "code",
   "execution_count": 41,
   "metadata": {},
   "outputs": [
    {
     "data": {
      "text/html": [
       "<div>\n",
       "<style scoped>\n",
       "    .dataframe tbody tr th:only-of-type {\n",
       "        vertical-align: middle;\n",
       "    }\n",
       "\n",
       "    .dataframe tbody tr th {\n",
       "        vertical-align: top;\n",
       "    }\n",
       "\n",
       "    .dataframe thead th {\n",
       "        text-align: right;\n",
       "    }\n",
       "</style>\n",
       "<table border=\"1\" class=\"dataframe\">\n",
       "  <thead>\n",
       "    <tr style=\"text-align: right;\">\n",
       "      <th></th>\n",
       "      <th>file</th>\n",
       "      <th>species</th>\n",
       "    </tr>\n",
       "  </thead>\n",
       "  <tbody>\n",
       "    <tr>\n",
       "      <td>0</td>\n",
       "      <td>1b490196c.png</td>\n",
       "      <td>Shepherds Purse</td>\n",
       "    </tr>\n",
       "    <tr>\n",
       "      <td>1</td>\n",
       "      <td>85431c075.png</td>\n",
       "      <td>Loose Silky-bent</td>\n",
       "    </tr>\n",
       "    <tr>\n",
       "      <td>2</td>\n",
       "      <td>506347cfe.png</td>\n",
       "      <td>Scentless Mayweed</td>\n",
       "    </tr>\n",
       "    <tr>\n",
       "      <td>3</td>\n",
       "      <td>7f46a71db.png</td>\n",
       "      <td>Sugar beet</td>\n",
       "    </tr>\n",
       "    <tr>\n",
       "      <td>4</td>\n",
       "      <td>668c1007c.png</td>\n",
       "      <td>Charlock</td>\n",
       "    </tr>\n",
       "    <tr>\n",
       "      <td>...</td>\n",
       "      <td>...</td>\n",
       "      <td>...</td>\n",
       "    </tr>\n",
       "    <tr>\n",
       "      <td>789</td>\n",
       "      <td>456d507c0.png</td>\n",
       "      <td>Cleavers</td>\n",
       "    </tr>\n",
       "    <tr>\n",
       "      <td>790</td>\n",
       "      <td>78b1bf91a.png</td>\n",
       "      <td>Sugar beet</td>\n",
       "    </tr>\n",
       "    <tr>\n",
       "      <td>791</td>\n",
       "      <td>8cf2e3e6c.png</td>\n",
       "      <td>Common Chickweed</td>\n",
       "    </tr>\n",
       "    <tr>\n",
       "      <td>792</td>\n",
       "      <td>948cdb277.png</td>\n",
       "      <td>Cleavers</td>\n",
       "    </tr>\n",
       "    <tr>\n",
       "      <td>793</td>\n",
       "      <td>24c94a6ca.png</td>\n",
       "      <td>Charlock</td>\n",
       "    </tr>\n",
       "  </tbody>\n",
       "</table>\n",
       "<p>794 rows × 2 columns</p>\n",
       "</div>"
      ],
      "text/plain": [
       "              file            species\n",
       "0    1b490196c.png    Shepherds Purse\n",
       "1    85431c075.png   Loose Silky-bent\n",
       "2    506347cfe.png  Scentless Mayweed\n",
       "3    7f46a71db.png         Sugar beet\n",
       "4    668c1007c.png           Charlock\n",
       "..             ...                ...\n",
       "789  456d507c0.png           Cleavers\n",
       "790  78b1bf91a.png         Sugar beet\n",
       "791  8cf2e3e6c.png   Common Chickweed\n",
       "792  948cdb277.png           Cleavers\n",
       "793  24c94a6ca.png           Charlock\n",
       "\n",
       "[794 rows x 2 columns]"
      ]
     },
     "execution_count": 41,
     "metadata": {},
     "output_type": "execute_result"
    }
   ],
   "source": [
    "submission_df.species.replace(mapping_rev, inplace=True); submission_df"
   ]
  },
  {
   "cell_type": "code",
   "execution_count": 42,
   "metadata": {},
   "outputs": [],
   "source": [
    "submission_df.to_csv(\"submission.csv\", index=False)"
   ]
  },
  {
   "cell_type": "code",
   "execution_count": null,
   "metadata": {},
   "outputs": [],
   "source": []
  }
 ],
 "metadata": {
  "kernelspec": {
   "display_name": "Python 3",
   "language": "python",
   "name": "python3"
  },
  "language_info": {
   "codemirror_mode": {
    "name": "ipython",
    "version": 3
   },
   "file_extension": ".py",
   "mimetype": "text/x-python",
   "name": "python",
   "nbconvert_exporter": "python",
   "pygments_lexer": "ipython3",
   "version": "3.6.4"
  }
 },
 "nbformat": 4,
 "nbformat_minor": 2
}
