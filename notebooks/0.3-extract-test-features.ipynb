{
 "cells": [
  {
   "cell_type": "markdown",
   "metadata": {},
   "source": [
    "# 0.3 Extract test features"
   ]
  },
  {
   "cell_type": "code",
   "execution_count": 1,
   "metadata": {},
   "outputs": [
    {
     "name": "stdout",
     "output_type": "stream",
     "text": [
      "/Users/anacriel/plant_seed_classification\n"
     ]
    }
   ],
   "source": [
    "cd /Users/anacriel/plant_seed_classification/"
   ]
  },
  {
   "cell_type": "code",
   "execution_count": 6,
   "metadata": {},
   "outputs": [],
   "source": [
    "import src.visualization.visualize as vs\n",
    "import src.features.build_features as bfeatures\n",
    "import os\n",
    "import pandas as pd"
   ]
  },
  {
   "cell_type": "code",
   "execution_count": 7,
   "metadata": {},
   "outputs": [
    {
     "name": "stdout",
     "output_type": "stream",
     "text": [
      "/Users/anacriel/plant_seed_classification/src\n"
     ]
    }
   ],
   "source": [
    "cd /Users/anacriel/plant_seed_classification/src"
   ]
  },
  {
   "cell_type": "markdown",
   "metadata": {},
   "source": [
    "#### Set working direcrories"
   ]
  },
  {
   "cell_type": "code",
   "execution_count": 8,
   "metadata": {},
   "outputs": [],
   "source": [
    "proc_data_dir = '../data/processed/'\n",
    "test_image_dir = os.path.join(proc_data_dir, 'test')"
   ]
  },
  {
   "cell_type": "markdown",
   "metadata": {},
   "source": [
    "#### Reading images using cv2 library"
   ]
  },
  {
   "cell_type": "code",
   "execution_count": 9,
   "metadata": {},
   "outputs": [
    {
     "name": "stdout",
     "output_type": "stream",
     "text": [
      "794\n"
     ]
    }
   ],
   "source": [
    "images, titles = vs.read_images(test_image_dir, data_type='test')"
   ]
  },
  {
   "cell_type": "markdown",
   "metadata": {},
   "source": [
    "#### Describe features to extract"
   ]
  },
  {
   "cell_type": "code",
   "execution_count": 10,
   "metadata": {},
   "outputs": [],
   "source": [
    "title = titles\n",
    "areas = []\n",
    "larges_contour_areas = []\n",
    "nb_of_contours = []\n",
    "images_height = []\n",
    "images_width = []"
   ]
  },
  {
   "cell_type": "markdown",
   "metadata": {},
   "source": [
    "#### Extracting features"
   ]
  },
  {
   "cell_type": "code",
   "execution_count": 11,
   "metadata": {},
   "outputs": [],
   "source": [
    "for image in images:\n",
    "    mask = vs.create_mask_for_plant(image)\n",
    "    contours = bfeatures.find_contours(mask)\n",
    "\n",
    "    area = bfeatures.calculate_contours_area(contours)\n",
    "    largest_area = bfeatures.calculate_largest_contour_area(contours)\n",
    "    height, width, channels = image.shape\n",
    "\n",
    "    images_height.append(height)\n",
    "    images_width.append(width)\n",
    "    areas.append(area)\n",
    "    nb_of_contours.append(len(contours))\n",
    "    larges_contour_areas.append(largest_area)"
   ]
  },
  {
   "cell_type": "markdown",
   "metadata": {},
   "source": [
    "#### Write features to DataFramee object"
   ]
  },
  {
   "cell_type": "code",
   "execution_count": 12,
   "metadata": {},
   "outputs": [],
   "source": [
    "features_df = pd.DataFrame()\n",
    "features_df[\"title\"] = title\n",
    "features_df[\"area\"] = areas\n",
    "features_df[\"largest_area\"] = larges_contour_areas\n",
    "features_df[\"number_of_components\"] = nb_of_contours\n",
    "features_df[\"height\"] = images_height\n",
    "features_df[\"width\"] = images_width"
   ]
  },
  {
   "cell_type": "code",
   "execution_count": 13,
   "metadata": {},
   "outputs": [
    {
     "data": {
      "text/html": [
       "<div>\n",
       "<style scoped>\n",
       "    .dataframe tbody tr th:only-of-type {\n",
       "        vertical-align: middle;\n",
       "    }\n",
       "\n",
       "    .dataframe tbody tr th {\n",
       "        vertical-align: top;\n",
       "    }\n",
       "\n",
       "    .dataframe thead th {\n",
       "        text-align: right;\n",
       "    }\n",
       "</style>\n",
       "<table border=\"1\" class=\"dataframe\">\n",
       "  <thead>\n",
       "    <tr style=\"text-align: right;\">\n",
       "      <th></th>\n",
       "      <th>title</th>\n",
       "      <th>area</th>\n",
       "      <th>largest_area</th>\n",
       "      <th>number_of_components</th>\n",
       "      <th>height</th>\n",
       "      <th>width</th>\n",
       "    </tr>\n",
       "  </thead>\n",
       "  <tbody>\n",
       "    <tr>\n",
       "      <th>0</th>\n",
       "      <td>1b490196c.png</td>\n",
       "      <td>10459.5</td>\n",
       "      <td>10459.5</td>\n",
       "      <td>1</td>\n",
       "      <td>200</td>\n",
       "      <td>200</td>\n",
       "    </tr>\n",
       "    <tr>\n",
       "      <th>1</th>\n",
       "      <td>85431c075.png</td>\n",
       "      <td>1325.0</td>\n",
       "      <td>800.5</td>\n",
       "      <td>4</td>\n",
       "      <td>200</td>\n",
       "      <td>200</td>\n",
       "    </tr>\n",
       "    <tr>\n",
       "      <th>2</th>\n",
       "      <td>506347cfe.png</td>\n",
       "      <td>10110.5</td>\n",
       "      <td>10110.5</td>\n",
       "      <td>1</td>\n",
       "      <td>200</td>\n",
       "      <td>200</td>\n",
       "    </tr>\n",
       "    <tr>\n",
       "      <th>3</th>\n",
       "      <td>7f46a71db.png</td>\n",
       "      <td>5943.5</td>\n",
       "      <td>5943.5</td>\n",
       "      <td>1</td>\n",
       "      <td>200</td>\n",
       "      <td>200</td>\n",
       "    </tr>\n",
       "    <tr>\n",
       "      <th>4</th>\n",
       "      <td>668c1007c.png</td>\n",
       "      <td>16974.5</td>\n",
       "      <td>16974.5</td>\n",
       "      <td>1</td>\n",
       "      <td>200</td>\n",
       "      <td>200</td>\n",
       "    </tr>\n",
       "  </tbody>\n",
       "</table>\n",
       "</div>"
      ],
      "text/plain": [
       "           title     area  largest_area  number_of_components  height  width\n",
       "0  1b490196c.png  10459.5       10459.5                     1     200    200\n",
       "1  85431c075.png   1325.0         800.5                     4     200    200\n",
       "2  506347cfe.png  10110.5       10110.5                     1     200    200\n",
       "3  7f46a71db.png   5943.5        5943.5                     1     200    200\n",
       "4  668c1007c.png  16974.5       16974.5                     1     200    200"
      ]
     },
     "execution_count": 13,
     "metadata": {},
     "output_type": "execute_result"
    }
   ],
   "source": [
    "features_df.head()"
   ]
  },
  {
   "cell_type": "code",
   "execution_count": 15,
   "metadata": {},
   "outputs": [],
   "source": [
    "features_df.to_csv(\"data/features_test.csv\", sep='\\t', encoding='utf-8')"
   ]
  },
  {
   "cell_type": "code",
   "execution_count": null,
   "metadata": {},
   "outputs": [],
   "source": []
  }
 ],
 "metadata": {
  "kernelspec": {
   "display_name": "Python 3",
   "language": "python",
   "name": "python3"
  },
  "language_info": {
   "codemirror_mode": {
    "name": "ipython",
    "version": 3
   },
   "file_extension": ".py",
   "mimetype": "text/x-python",
   "name": "python",
   "nbconvert_exporter": "python",
   "pygments_lexer": "ipython3",
   "version": "3.6.8"
  }
 },
 "nbformat": 4,
 "nbformat_minor": 2
}
