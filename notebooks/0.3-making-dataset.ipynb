{
 "cells": [
  {
   "cell_type": "markdown",
   "metadata": {},
   "source": [
    "## 0.3 Making dataset"
   ]
  },
  {
   "cell_type": "code",
   "execution_count": 1,
   "metadata": {},
   "outputs": [
    {
     "name": "stdout",
     "output_type": "stream",
     "text": [
      "/Users/anacriel/plant_seed_classification\n"
     ]
    }
   ],
   "source": [
    "cd ../"
   ]
  },
  {
   "cell_type": "code",
   "execution_count": 2,
   "metadata": {},
   "outputs": [],
   "source": [
    "import src.visualization.visualize as vs\n",
    "import src.features.build_features as bf\n",
    "import os\n",
    "import cv2\n",
    "import pandas as pd\n",
    "import numpy as np\n",
    "from src.data.make_dataset import get_images\n",
    "from src.data.make_dataset import create_dataset\n",
    "from matplotlib import pyplot as plt"
   ]
  },
  {
   "cell_type": "code",
   "execution_count": 3,
   "metadata": {},
   "outputs": [
    {
     "name": "stdout",
     "output_type": "stream",
     "text": [
      "/Users/anacriel/plant_seed_classification/src\n"
     ]
    }
   ],
   "source": [
    "cd src/"
   ]
  },
  {
   "cell_type": "code",
   "execution_count": 4,
   "metadata": {},
   "outputs": [],
   "source": [
    "proc_data_dir = '../data/raw/'\n",
    "train_image_dir = os.path.join(proc_data_dir, 'train')"
   ]
  },
  {
   "cell_type": "code",
   "execution_count": 5,
   "metadata": {},
   "outputs": [],
   "source": [
    "images, labels_str = get_images(train_image_dir)"
   ]
  },
  {
   "cell_type": "code",
   "execution_count": 6,
   "metadata": {},
   "outputs": [],
   "source": [
    "labels_int = []\n",
    "mapping = { 'Sugar beet': 0, 'Fat Hen': 1, 'Scentless Mayweed' : 2, 'Charlock' : 3,\n",
    "           'Small-flowered Cranesbill': 4, 'Maize': 5, 'Shepherds Purse' :6, 'Common wheat': 7,\n",
    "           'Common Chickweed': 8, 'Cleavers': 9, 'Loose Silky-bent' : 10, 'Black-grass': 11 }\n",
    "for label in labels_str:\n",
    "    labels_int.append(mapping[label])"
   ]
  },
  {
   "cell_type": "code",
   "execution_count": 7,
   "metadata": {},
   "outputs": [],
   "source": [
    "images = np.reshape(images, (-1, 200, 200, 3))\n",
    "labels = np.array(labels_int)"
   ]
  },
  {
   "cell_type": "code",
   "execution_count": 8,
   "metadata": {},
   "outputs": [
    {
     "data": {
      "text/plain": [
       "<matplotlib.image.AxesImage at 0x1296bdf98>"
      ]
     },
     "execution_count": 8,
     "metadata": {},
     "output_type": "execute_result"
    },
    {
     "data": {
      "image/png": "[encoded data removed]",
      "text/plain": [
       "<Figure size 432x288 with 1 Axes>"
      ]
     },
     "metadata": {},
     "output_type": "display_data"
    }
   ],
   "source": [
    "plt.imshow(images[0]) ##!!!!! damn 754\n",
    "blur = cv2.GaussianBlur(images[0], (3, 3), 2)\n",
    "hsv = cv2.cvtColor(blur, cv2.COLOR_BGR2HSV)\n",
    "lower_green = np.array([22, 60, 0]) #second 75\n",
    "upper_green = np.array([150, 255, 255])\n",
    "mask = cv2.inRange(hsv, lower_green, upper_green)\n",
    "kernel = cv2.getStructuringElement(cv2.MORPH_ELLIPSE, (5, 5))\n",
    "opened_mask = cv2.morphologyEx(mask, cv2.MORPH_CLOSE, kernel)\n",
    "masked_img = cv2.bitwise_and(images[0], images[0], mask=opened_mask)\n",
    "\n",
    "#masked_img = sharpen_image(masked_img)\n",
    "\n",
    "masked_img[mask == 0] = 255\n",
    "\n",
    "kernel = np.ones((2,2),np.uint8)\n",
    "dilation = cv2.dilate(masked_img,kernel,iterations = 1)\n",
    "\n",
    "#den_image = cv2.fastNlMeansDenoisingColored(masked_img, None, 5, 5, 5, 5)\n",
    "plt.imshow(dilation)"
   ]
  },
  {
   "cell_type": "code",
   "execution_count": 9,
   "metadata": {},
   "outputs": [
    {
     "name": "stderr",
     "output_type": "stream",
     "text": [
      "/Users/anacriel/miniconda3/lib/python3.6/site-packages/skimage/morphology/misc.py:132: UserWarning: Only one label was provided to `remove_small_objects`. Did you mean to use a boolean array?\n",
      "  warn(\"Only one label was provided to `remove_small_objects`. \"\n"
     ]
    }
   ],
   "source": [
    "#dataset = create_dataset(images, labels)\n",
    "dataset = create_dataset(images, labels, kind='label')"
   ]
  },
  {
   "cell_type": "code",
   "execution_count": 10,
   "metadata": {},
   "outputs": [
    {
     "data": {
      "text/html": [
       "<div>\n",
       "<style scoped>\n",
       "    .dataframe tbody tr th:only-of-type {\n",
       "        vertical-align: middle;\n",
       "    }\n",
       "\n",
       "    .dataframe tbody tr th {\n",
       "        vertical-align: top;\n",
       "    }\n",
       "\n",
       "    .dataframe thead th {\n",
       "        text-align: right;\n",
       "    }\n",
       "</style>\n",
       "<table border=\"1\" class=\"dataframe\">\n",
       "  <thead>\n",
       "    <tr style=\"text-align: right;\">\n",
       "      <th></th>\n",
       "      <th>label</th>\n",
       "      <th>area</th>\n",
       "      <th>largest_area</th>\n",
       "      <th>number_of_elems</th>\n",
       "      <th>perimeter</th>\n",
       "      <th>aspect_ratio</th>\n",
       "      <th>circularity</th>\n",
       "      <th>mean_r</th>\n",
       "      <th>mean_g</th>\n",
       "      <th>mean_b</th>\n",
       "      <th>stddev_r</th>\n",
       "      <th>stddev_g</th>\n",
       "      <th>stddev_b</th>\n",
       "      <th>skew_r</th>\n",
       "      <th>skew_g</th>\n",
       "      <th>skew_b</th>\n",
       "    </tr>\n",
       "  </thead>\n",
       "  <tbody>\n",
       "    <tr>\n",
       "      <td>0</td>\n",
       "      <td>9</td>\n",
       "      <td>8081.0</td>\n",
       "      <td>4496.5</td>\n",
       "      <td>3</td>\n",
       "      <td>559.286358</td>\n",
       "      <td>0.585938</td>\n",
       "      <td>38.708233</td>\n",
       "      <td>50.984027</td>\n",
       "      <td>60.557028</td>\n",
       "      <td>32.992428</td>\n",
       "      <td>7.096129</td>\n",
       "      <td>7.143031</td>\n",
       "      <td>7.855711</td>\n",
       "      <td>0.674907</td>\n",
       "      <td>0.227231</td>\n",
       "      <td>0.414289</td>\n",
       "    </tr>\n",
       "    <tr>\n",
       "      <td>0</td>\n",
       "      <td>9</td>\n",
       "      <td>9554.5</td>\n",
       "      <td>5435.0</td>\n",
       "      <td>2</td>\n",
       "      <td>548.499561</td>\n",
       "      <td>0.991071</td>\n",
       "      <td>31.487966</td>\n",
       "      <td>57.672424</td>\n",
       "      <td>67.709697</td>\n",
       "      <td>33.943030</td>\n",
       "      <td>6.194284</td>\n",
       "      <td>7.455211</td>\n",
       "      <td>7.037360</td>\n",
       "      <td>1.012593</td>\n",
       "      <td>-0.286254</td>\n",
       "      <td>0.494366</td>\n",
       "    </tr>\n",
       "    <tr>\n",
       "      <td>0</td>\n",
       "      <td>9</td>\n",
       "      <td>7064.0</td>\n",
       "      <td>3129.5</td>\n",
       "      <td>3</td>\n",
       "      <td>222.409161</td>\n",
       "      <td>0.969231</td>\n",
       "      <td>7.002525</td>\n",
       "      <td>57.910567</td>\n",
       "      <td>67.711947</td>\n",
       "      <td>36.566906</td>\n",
       "      <td>7.441213</td>\n",
       "      <td>7.059173</td>\n",
       "      <td>6.929987</td>\n",
       "      <td>1.284243</td>\n",
       "      <td>-0.022208</td>\n",
       "      <td>0.696010</td>\n",
       "    </tr>\n",
       "    <tr>\n",
       "      <td>0</td>\n",
       "      <td>9</td>\n",
       "      <td>8902.0</td>\n",
       "      <td>4440.0</td>\n",
       "      <td>3</td>\n",
       "      <td>273.279218</td>\n",
       "      <td>0.731183</td>\n",
       "      <td>8.389298</td>\n",
       "      <td>57.762575</td>\n",
       "      <td>67.379269</td>\n",
       "      <td>33.364757</td>\n",
       "      <td>6.449835</td>\n",
       "      <td>5.684232</td>\n",
       "      <td>6.536645</td>\n",
       "      <td>1.327260</td>\n",
       "      <td>0.475411</td>\n",
       "      <td>0.947661</td>\n",
       "    </tr>\n",
       "    <tr>\n",
       "      <td>0</td>\n",
       "      <td>9</td>\n",
       "      <td>11930.0</td>\n",
       "      <td>7304.5</td>\n",
       "      <td>2</td>\n",
       "      <td>348.575682</td>\n",
       "      <td>0.990385</td>\n",
       "      <td>10.184829</td>\n",
       "      <td>54.310651</td>\n",
       "      <td>63.228059</td>\n",
       "      <td>34.808469</td>\n",
       "      <td>7.687266</td>\n",
       "      <td>7.795908</td>\n",
       "      <td>8.403379</td>\n",
       "      <td>0.526196</td>\n",
       "      <td>0.046387</td>\n",
       "      <td>0.041887</td>\n",
       "    </tr>\n",
       "    <tr>\n",
       "      <td>0</td>\n",
       "      <td>9</td>\n",
       "      <td>9681.5</td>\n",
       "      <td>5164.0</td>\n",
       "      <td>2</td>\n",
       "      <td>281.279218</td>\n",
       "      <td>0.873563</td>\n",
       "      <td>8.172081</td>\n",
       "      <td>59.777061</td>\n",
       "      <td>71.016126</td>\n",
       "      <td>35.368575</td>\n",
       "      <td>6.003584</td>\n",
       "      <td>4.817318</td>\n",
       "      <td>6.615884</td>\n",
       "      <td>1.371601</td>\n",
       "      <td>-0.006474</td>\n",
       "      <td>0.738780</td>\n",
       "    </tr>\n",
       "    <tr>\n",
       "      <td>0</td>\n",
       "      <td>9</td>\n",
       "      <td>12837.5</td>\n",
       "      <td>12837.5</td>\n",
       "      <td>1</td>\n",
       "      <td>608.884337</td>\n",
       "      <td>1.109677</td>\n",
       "      <td>28.879465</td>\n",
       "      <td>57.665191</td>\n",
       "      <td>67.359472</td>\n",
       "      <td>25.430938</td>\n",
       "      <td>11.671010</td>\n",
       "      <td>10.784419</td>\n",
       "      <td>11.732029</td>\n",
       "      <td>0.939610</td>\n",
       "      <td>0.036892</td>\n",
       "      <td>0.271551</td>\n",
       "    </tr>\n",
       "    <tr>\n",
       "      <td>0</td>\n",
       "      <td>9</td>\n",
       "      <td>9508.0</td>\n",
       "      <td>6434.5</td>\n",
       "      <td>2</td>\n",
       "      <td>678.482316</td>\n",
       "      <td>0.708609</td>\n",
       "      <td>48.415887</td>\n",
       "      <td>48.724176</td>\n",
       "      <td>57.647910</td>\n",
       "      <td>31.599377</td>\n",
       "      <td>6.613299</td>\n",
       "      <td>6.766699</td>\n",
       "      <td>7.926408</td>\n",
       "      <td>1.111177</td>\n",
       "      <td>0.489484</td>\n",
       "      <td>0.640873</td>\n",
       "    </tr>\n",
       "    <tr>\n",
       "      <td>0</td>\n",
       "      <td>9</td>\n",
       "      <td>11368.0</td>\n",
       "      <td>5452.5</td>\n",
       "      <td>3</td>\n",
       "      <td>323.462983</td>\n",
       "      <td>1.022989</td>\n",
       "      <td>9.203756</td>\n",
       "      <td>57.106483</td>\n",
       "      <td>68.782757</td>\n",
       "      <td>33.273435</td>\n",
       "      <td>5.543166</td>\n",
       "      <td>6.899455</td>\n",
       "      <td>7.116239</td>\n",
       "      <td>-0.109973</td>\n",
       "      <td>-0.817519</td>\n",
       "      <td>-0.338298</td>\n",
       "    </tr>\n",
       "    <tr>\n",
       "      <td>0</td>\n",
       "      <td>9</td>\n",
       "      <td>6473.0</td>\n",
       "      <td>6473.0</td>\n",
       "      <td>1</td>\n",
       "      <td>604.641696</td>\n",
       "      <td>0.591160</td>\n",
       "      <td>56.479466</td>\n",
       "      <td>54.806447</td>\n",
       "      <td>61.800208</td>\n",
       "      <td>25.169638</td>\n",
       "      <td>10.382987</td>\n",
       "      <td>8.169043</td>\n",
       "      <td>8.472354</td>\n",
       "      <td>1.005697</td>\n",
       "      <td>0.716654</td>\n",
       "      <td>1.090426</td>\n",
       "    </tr>\n",
       "  </tbody>\n",
       "</table>\n",
       "</div>"
      ],
      "text/plain": [
       "  label     area  largest_area number_of_elems   perimeter  aspect_ratio  \\\n",
       "0     9   8081.0        4496.5               3  559.286358      0.585938   \n",
       "0     9   9554.5        5435.0               2  548.499561      0.991071   \n",
       "0     9   7064.0        3129.5               3  222.409161      0.969231   \n",
       "0     9   8902.0        4440.0               3  273.279218      0.731183   \n",
       "0     9  11930.0        7304.5               2  348.575682      0.990385   \n",
       "0     9   9681.5        5164.0               2  281.279218      0.873563   \n",
       "0     9  12837.5       12837.5               1  608.884337      1.109677   \n",
       "0     9   9508.0        6434.5               2  678.482316      0.708609   \n",
       "0     9  11368.0        5452.5               3  323.462983      1.022989   \n",
       "0     9   6473.0        6473.0               1  604.641696      0.591160   \n",
       "\n",
       "   circularity     mean_r     mean_g     mean_b   stddev_r   stddev_g  \\\n",
       "0    38.708233  50.984027  60.557028  32.992428   7.096129   7.143031   \n",
       "0    31.487966  57.672424  67.709697  33.943030   6.194284   7.455211   \n",
       "0     7.002525  57.910567  67.711947  36.566906   7.441213   7.059173   \n",
       "0     8.389298  57.762575  67.379269  33.364757   6.449835   5.684232   \n",
       "0    10.184829  54.310651  63.228059  34.808469   7.687266   7.795908   \n",
       "0     8.172081  59.777061  71.016126  35.368575   6.003584   4.817318   \n",
       "0    28.879465  57.665191  67.359472  25.430938  11.671010  10.784419   \n",
       "0    48.415887  48.724176  57.647910  31.599377   6.613299   6.766699   \n",
       "0     9.203756  57.106483  68.782757  33.273435   5.543166   6.899455   \n",
       "0    56.479466  54.806447  61.800208  25.169638  10.382987   8.169043   \n",
       "\n",
       "    stddev_b    skew_r    skew_g    skew_b  \n",
       "0   7.855711  0.674907  0.227231  0.414289  \n",
       "0   7.037360  1.012593 -0.286254  0.494366  \n",
       "0   6.929987  1.284243 -0.022208  0.696010  \n",
       "0   6.536645  1.327260  0.475411  0.947661  \n",
       "0   8.403379  0.526196  0.046387  0.041887  \n",
       "0   6.615884  1.371601 -0.006474  0.738780  \n",
       "0  11.732029  0.939610  0.036892  0.271551  \n",
       "0   7.926408  1.111177  0.489484  0.640873  \n",
       "0   7.116239 -0.109973 -0.817519 -0.338298  \n",
       "0   8.472354  1.005697  0.716654  1.090426  "
      ]
     },
     "execution_count": 10,
     "metadata": {},
     "output_type": "execute_result"
    }
   ],
   "source": [
    "dataset.head(10)"
   ]
  },
  {
   "cell_type": "code",
   "execution_count": 11,
   "metadata": {},
   "outputs": [],
   "source": [
    "dataset.to_csv(\"data/features_3_10_19.csv\")"
   ]
  },
  {
   "cell_type": "code",
   "execution_count": null,
   "metadata": {},
   "outputs": [],
   "source": []
  }
 ],
 "metadata": {
  "kernelspec": {
   "display_name": "Python 3",
   "language": "python",
   "name": "python3"
  },
  "language_info": {
   "codemirror_mode": {
    "name": "ipython",
    "version": 3
   },
   "file_extension": ".py",
   "mimetype": "text/x-python",
   "name": "python",
   "nbconvert_exporter": "python",
   "pygments_lexer": "ipython3",
   "version": "3.6.4"
  }
 },
 "nbformat": 4,
 "nbformat_minor": 2
}
