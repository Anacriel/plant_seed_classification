{
 "cells": [
  {
   "cell_type": "markdown",
   "metadata": {},
   "source": [
    "# 0.2 Extract train features"
   ]
  },
  {
   "cell_type": "code",
   "execution_count": 7,
   "metadata": {},
   "outputs": [
    {
     "name": "stdout",
     "output_type": "stream",
     "text": [
      "/Users/anacriel/plant_seed_classification/src\n"
     ]
    }
   ],
   "source": [
    "cd /Users/anacriel/plant_seed_classification/src"
   ]
  },
  {
   "cell_type": "code",
   "execution_count": 4,
   "metadata": {},
   "outputs": [],
   "source": [
    "import src.visualization.visualize as vs\n",
    "import src.features.build_features as bfeatures\n",
    "import os\n",
    "import pandas as pd"
   ]
  },
  {
   "cell_type": "markdown",
   "metadata": {},
   "source": [
    "#### Set working direcrories"
   ]
  },
  {
   "cell_type": "code",
   "execution_count": 5,
   "metadata": {},
   "outputs": [],
   "source": [
    "proc_data_dir = '../data/processed/'\n",
    "train_image_dir = os.path.join(proc_data_dir, 'train')"
   ]
  },
  {
   "cell_type": "markdown",
   "metadata": {},
   "source": [
    "#### Read images using cv2 library"
   ]
  },
  {
   "cell_type": "code",
   "execution_count": 8,
   "metadata": {},
   "outputs": [
    {
     "name": "stdout",
     "output_type": "stream",
     "text": [
      "4750\n"
     ]
    }
   ],
   "source": [
    "images_per_class = vs.read_images(train_image_dir, data_type='train')"
   ]
  },
  {
   "cell_type": "markdown",
   "metadata": {},
   "source": [
    "#### Describe features to extract"
   ]
  },
  {
   "cell_type": "code",
   "execution_count": 9,
   "metadata": {},
   "outputs": [],
   "source": [
    "areas = []\n",
    "larges_contour_areas = []\n",
    "labels = []\n",
    "nb_of_contours = []\n",
    "images_height = []\n",
    "images_width = []"
   ]
  },
  {
   "cell_type": "markdown",
   "metadata": {},
   "source": [
    "#### Extracting features"
   ]
  },
  {
   "cell_type": "code",
   "execution_count": 10,
   "metadata": {},
   "outputs": [],
   "source": [
    "for class_label in images_per_class.keys():\n",
    "    for image in images_per_class[class_label]:\n",
    "        mask = vs.create_mask_for_plant(image)\n",
    "        contours = bfeatures.find_contours(mask)\n",
    "\n",
    "        area = bfeatures.calculate_contours_area(contours)\n",
    "        largest_area = bfeatures.calculate_largest_contour_area(contours)\n",
    "        height, width, channels = image.shape\n",
    "\n",
    "        images_height.append(height)\n",
    "        images_width.append(width)\n",
    "        areas.append(area)\n",
    "        nb_of_contours.append(len(contours))\n",
    "        larges_contour_areas.append(largest_area)\n",
    "        labels.append(class_label)"
   ]
  },
  {
   "cell_type": "markdown",
   "metadata": {},
   "source": [
    "#### Write features to DataFramee object"
   ]
  },
  {
   "cell_type": "code",
   "execution_count": 11,
   "metadata": {},
   "outputs": [],
   "source": [
    "features_df = pd.DataFrame()\n",
    "features_df[\"label\"] = labels\n",
    "features_df[\"area\"] = areas\n",
    "features_df[\"largest_area\"] = larges_contour_areas\n",
    "features_df[\"number_of_components\"] = nb_of_contours\n",
    "features_df[\"height\"] = images_height\n",
    "features_df[\"width\"] = images_width"
   ]
  },
  {
   "cell_type": "code",
   "execution_count": 12,
   "metadata": {},
   "outputs": [
    {
     "data": {
      "text/html": [
       "<div>\n",
       "<style scoped>\n",
       "    .dataframe tbody tr th:only-of-type {\n",
       "        vertical-align: middle;\n",
       "    }\n",
       "\n",
       "    .dataframe tbody tr th {\n",
       "        vertical-align: top;\n",
       "    }\n",
       "\n",
       "    .dataframe thead th {\n",
       "        text-align: right;\n",
       "    }\n",
       "</style>\n",
       "<table border=\"1\" class=\"dataframe\">\n",
       "  <thead>\n",
       "    <tr style=\"text-align: right;\">\n",
       "      <th></th>\n",
       "      <th>label</th>\n",
       "      <th>area</th>\n",
       "      <th>largest_area</th>\n",
       "      <th>number_of_components</th>\n",
       "      <th>height</th>\n",
       "      <th>width</th>\n",
       "    </tr>\n",
       "  </thead>\n",
       "  <tbody>\n",
       "    <tr>\n",
       "      <th>0</th>\n",
       "      <td>Cleavers</td>\n",
       "      <td>8069.5</td>\n",
       "      <td>4629.5</td>\n",
       "      <td>3</td>\n",
       "      <td>200</td>\n",
       "      <td>200</td>\n",
       "    </tr>\n",
       "    <tr>\n",
       "      <th>1</th>\n",
       "      <td>Cleavers</td>\n",
       "      <td>9077.0</td>\n",
       "      <td>5168.0</td>\n",
       "      <td>2</td>\n",
       "      <td>200</td>\n",
       "      <td>200</td>\n",
       "    </tr>\n",
       "    <tr>\n",
       "      <th>2</th>\n",
       "      <td>Cleavers</td>\n",
       "      <td>6683.5</td>\n",
       "      <td>3053.5</td>\n",
       "      <td>3</td>\n",
       "      <td>200</td>\n",
       "      <td>200</td>\n",
       "    </tr>\n",
       "    <tr>\n",
       "      <th>3</th>\n",
       "      <td>Cleavers</td>\n",
       "      <td>8293.0</td>\n",
       "      <td>4021.5</td>\n",
       "      <td>3</td>\n",
       "      <td>200</td>\n",
       "      <td>200</td>\n",
       "    </tr>\n",
       "    <tr>\n",
       "      <th>4</th>\n",
       "      <td>Cleavers</td>\n",
       "      <td>11736.0</td>\n",
       "      <td>7255.0</td>\n",
       "      <td>3</td>\n",
       "      <td>200</td>\n",
       "      <td>200</td>\n",
       "    </tr>\n",
       "  </tbody>\n",
       "</table>\n",
       "</div>"
      ],
      "text/plain": [
       "      label     area  largest_area  number_of_components  height  width\n",
       "0  Cleavers   8069.5        4629.5                     3     200    200\n",
       "1  Cleavers   9077.0        5168.0                     2     200    200\n",
       "2  Cleavers   6683.5        3053.5                     3     200    200\n",
       "3  Cleavers   8293.0        4021.5                     3     200    200\n",
       "4  Cleavers  11736.0        7255.0                     3     200    200"
      ]
     },
     "execution_count": 12,
     "metadata": {},
     "output_type": "execute_result"
    }
   ],
   "source": [
    "features_df.head()"
   ]
  },
  {
   "cell_type": "code",
   "execution_count": 13,
   "metadata": {},
   "outputs": [],
   "source": [
    "features_df.to_csv(\"data/features_train.csv\", sep='\\t', encoding='utf-8')"
   ]
  },
  {
   "cell_type": "code",
   "execution_count": null,
   "metadata": {},
   "outputs": [],
   "source": []
  }
 ],
 "metadata": {
  "kernelspec": {
   "display_name": "Python 3",
   "language": "python",
   "name": "python3"
  },
  "language_info": {
   "codemirror_mode": {
    "name": "ipython",
    "version": 3
   },
   "file_extension": ".py",
   "mimetype": "text/x-python",
   "name": "python",
   "nbconvert_exporter": "python",
   "pygments_lexer": "ipython3",
   "version": "3.6.8"
  }
 },
 "nbformat": 4,
 "nbformat_minor": 2
}
